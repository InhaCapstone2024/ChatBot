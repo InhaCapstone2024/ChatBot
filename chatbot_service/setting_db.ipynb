{
 "cells": [
  {
   "cell_type": "code",
   "execution_count": 1,
   "metadata": {},
   "outputs": [],
   "source": [
    "import os\n",
    "import time\n",
    "import math\n",
    "\n",
    "import pandas as pd\n",
    "import torch\n",
    "\n",
    "from tqdm.notebook import tqdm\n",
    "from transformers import AutoTokenizer, AutoModel\n",
    "from pinecone import Pinecone, ServerlessSpec"
   ]
  },
  {
   "cell_type": "code",
   "execution_count": 2,
   "metadata": {},
   "outputs": [
    {
     "data": {
      "text/html": [
       "<div>\n",
       "<style scoped>\n",
       "    .dataframe tbody tr th:only-of-type {\n",
       "        vertical-align: middle;\n",
       "    }\n",
       "\n",
       "    .dataframe tbody tr th {\n",
       "        vertical-align: top;\n",
       "    }\n",
       "\n",
       "    .dataframe thead th {\n",
       "        text-align: right;\n",
       "    }\n",
       "</style>\n",
       "<table border=\"1\" class=\"dataframe\">\n",
       "  <thead>\n",
       "    <tr style=\"text-align: right;\">\n",
       "      <th></th>\n",
       "      <th>CASE_ID</th>\n",
       "      <th>CASENAME</th>\n",
       "      <th>CASENUMBER</th>\n",
       "      <th>DATE</th>\n",
       "      <th>COURTNAME</th>\n",
       "      <th>CASETYPE</th>\n",
       "      <th>JUDGETYPE</th>\n",
       "      <th>CASEURL</th>\n",
       "      <th>DECISION</th>\n",
       "      <th>SUBSTANCE</th>\n",
       "      <th>REFERENCE</th>\n",
       "      <th>CONTENT</th>\n",
       "      <th>WINSTATUS</th>\n",
       "    </tr>\n",
       "  </thead>\n",
       "  <tbody>\n",
       "    <tr>\n",
       "      <th>70</th>\n",
       "      <td>70265</td>\n",
       "      <td>근로기준법위반</td>\n",
       "      <td>2005노818</td>\n",
       "      <td>2005-11-18</td>\n",
       "      <td>울산지방법원</td>\n",
       "      <td>형사</td>\n",
       "      <td>판결 : 상고</td>\n",
       "      <td>/DRF/lawService.do?OC=wkdtmf357&amp;target=prec&amp;ID...</td>\n",
       "      <td>[1]           근로기준법 제8조에 정한 ‘영리로’의 의미 및 영리성 유무...</td>\n",
       "      <td>[1]           근로기준법 제8조(중간착취의 배제)는 누구든지 법률에 의하...</td>\n",
       "      <td>[1]         근로기준법 제8조,         제110조 / [2]    ...</td>\n",
       "      <td>【피 고 인】 피고인【항 소 인】 피고인【검    사】 전미화【변 호 인】 변호사 ...</td>\n",
       "      <td>DEFENDANT</td>\n",
       "    </tr>\n",
       "  </tbody>\n",
       "</table>\n",
       "</div>"
      ],
      "text/plain": [
       "    CASE_ID CASENAME CASENUMBER        DATE COURTNAME CASETYPE JUDGETYPE  \\\n",
       "70    70265  근로기준법위반   2005노818  2005-11-18    울산지방법원       형사   판결 : 상고   \n",
       "\n",
       "                                              CASEURL  \\\n",
       "70  /DRF/lawService.do?OC=wkdtmf357&target=prec&ID...   \n",
       "\n",
       "                                             DECISION  \\\n",
       "70  [1]           근로기준법 제8조에 정한 ‘영리로’의 의미 및 영리성 유무...   \n",
       "\n",
       "                                            SUBSTANCE  \\\n",
       "70  [1]           근로기준법 제8조(중간착취의 배제)는 누구든지 법률에 의하...   \n",
       "\n",
       "                                            REFERENCE  \\\n",
       "70  [1]         근로기준법 제8조,         제110조 / [2]    ...   \n",
       "\n",
       "                                              CONTENT  WINSTATUS  \n",
       "70  【피 고 인】 피고인【항 소 인】 피고인【검    사】 전미화【변 호 인】 변호사 ...  DEFENDANT  "
      ]
     },
     "execution_count": 2,
     "metadata": {},
     "output_type": "execute_result"
    }
   ],
   "source": [
    "# Load data\n",
    "data = pd.read_csv('../data/judgment.csv', skipinitialspace=True)\n",
    "data[data['CASE_ID']==70265]"
   ]
  },
  {
   "cell_type": "code",
   "execution_count": 3,
   "metadata": {},
   "outputs": [
    {
     "data": {
      "text/html": [
       "<div>\n",
       "<style scoped>\n",
       "    .dataframe tbody tr th:only-of-type {\n",
       "        vertical-align: middle;\n",
       "    }\n",
       "\n",
       "    .dataframe tbody tr th {\n",
       "        vertical-align: top;\n",
       "    }\n",
       "\n",
       "    .dataframe thead th {\n",
       "        text-align: right;\n",
       "    }\n",
       "</style>\n",
       "<table border=\"1\" class=\"dataframe\">\n",
       "  <thead>\n",
       "    <tr style=\"text-align: right;\">\n",
       "      <th></th>\n",
       "      <th>ID</th>\n",
       "      <th>facts</th>\n",
       "    </tr>\n",
       "  </thead>\n",
       "  <tbody>\n",
       "    <tr>\n",
       "      <th>0</th>\n",
       "      <td>64515</td>\n",
       "      <td>【항고인, 행위자】 【원심결정】 부산지방법원 가정지원 2008. 5. 9.자 200...</td>\n",
       "    </tr>\n",
       "    <tr>\n",
       "      <th>1</th>\n",
       "      <td>64516</td>\n",
       "      <td>【준항고인】 【주    문】인천지방검찰청 소속 사법경찰관 \\n        청구외 ...</td>\n",
       "    </tr>\n",
       "    <tr>\n",
       "      <th>2</th>\n",
       "      <td>64517</td>\n",
       "      <td>【피 고 인】 【항 소 인】 피고인들【검    사】 박동진【변 호 인】 법무법인 태...</td>\n",
       "    </tr>\n",
       "    <tr>\n",
       "      <th>3</th>\n",
       "      <td>64518</td>\n",
       "      <td>【피 고 인】 【항 소 인】 피고인【검    사】 이원규【변 호 인】 변호사 하창우...</td>\n",
       "    </tr>\n",
       "    <tr>\n",
       "      <th>4</th>\n",
       "      <td>64519</td>\n",
       "      <td>【피 고 인】 【항 소 인】 피고인【검    사】 박성재【변 호 인】 법무법인 세인...</td>\n",
       "    </tr>\n",
       "  </tbody>\n",
       "</table>\n",
       "</div>"
      ],
      "text/plain": [
       "      ID                                              facts\n",
       "0  64515  【항고인, 행위자】 【원심결정】 부산지방법원 가정지원 2008. 5. 9.자 200...\n",
       "1  64516  【준항고인】 【주    문】인천지방검찰청 소속 사법경찰관 \\n        청구외 ...\n",
       "2  64517  【피 고 인】 【항 소 인】 피고인들【검    사】 박동진【변 호 인】 법무법인 태...\n",
       "3  64518  【피 고 인】 【항 소 인】 피고인【검    사】 이원규【변 호 인】 변호사 하창우...\n",
       "4  64519  【피 고 인】 【항 소 인】 피고인【검    사】 박성재【변 호 인】 법무법인 세인..."
      ]
     },
     "execution_count": 3,
     "metadata": {},
     "output_type": "execute_result"
    }
   ],
   "source": [
    "# Remove unnecessary columns\n",
    "data = data[['CASE_ID', 'CONTENT']]\n",
    "data = data.rename(columns={'CASE_ID': 'ID', 'CONTENT': 'facts'})\n",
    "data.head()"
   ]
  },
  {
   "cell_type": "code",
   "execution_count": 7,
   "metadata": {},
   "outputs": [
    {
     "data": {
      "application/vnd.jupyter.widget-view+json": {
       "model_id": "8fb35c4b95484e73960e02c67506b343",
       "version_major": 2,
       "version_minor": 0
      },
      "text/plain": [
       "Calculating Embeddings...:   0%|          | 0/6083 [00:00<?, ?it/s]"
      ]
     },
     "metadata": {},
     "output_type": "display_data"
    },
    {
     "data": {
      "text/html": [
       "<div>\n",
       "<style scoped>\n",
       "    .dataframe tbody tr th:only-of-type {\n",
       "        vertical-align: middle;\n",
       "    }\n",
       "\n",
       "    .dataframe tbody tr th {\n",
       "        vertical-align: top;\n",
       "    }\n",
       "\n",
       "    .dataframe thead th {\n",
       "        text-align: right;\n",
       "    }\n",
       "</style>\n",
       "<table border=\"1\" class=\"dataframe\">\n",
       "  <thead>\n",
       "    <tr style=\"text-align: right;\">\n",
       "      <th></th>\n",
       "      <th>ID</th>\n",
       "      <th>facts</th>\n",
       "      <th>embeddings</th>\n",
       "    </tr>\n",
       "  </thead>\n",
       "  <tbody>\n",
       "    <tr>\n",
       "      <th>0</th>\n",
       "      <td>64515</td>\n",
       "      <td>【항고인, 행위자】 【원심결정】 부산지방법원 가정지원 2008. 5. 9.자 200...</td>\n",
       "      <td>[-0.056413822, 0.013409576, -0.61507624, 0.039...</td>\n",
       "    </tr>\n",
       "    <tr>\n",
       "      <th>1</th>\n",
       "      <td>64516</td>\n",
       "      <td>【준항고인】 【주    문】인천지방검찰청 소속 사법경찰관 \\n        청구외 ...</td>\n",
       "      <td>[-0.11401074, 0.0027919414, -0.5784367, -0.021...</td>\n",
       "    </tr>\n",
       "    <tr>\n",
       "      <th>2</th>\n",
       "      <td>64517</td>\n",
       "      <td>【피 고 인】 【항 소 인】 피고인들【검    사】 박동진【변 호 인】 법무법인 태...</td>\n",
       "      <td>[-0.10487191, -0.013258798, -0.6071003, -0.023...</td>\n",
       "    </tr>\n",
       "    <tr>\n",
       "      <th>3</th>\n",
       "      <td>64518</td>\n",
       "      <td>【피 고 인】 【항 소 인】 피고인【검    사】 이원규【변 호 인】 변호사 하창우...</td>\n",
       "      <td>[-0.07967803, -0.04007791, -0.59973556, -0.002...</td>\n",
       "    </tr>\n",
       "    <tr>\n",
       "      <th>4</th>\n",
       "      <td>64519</td>\n",
       "      <td>【피 고 인】 【항 소 인】 피고인【검    사】 박성재【변 호 인】 법무법인 세인...</td>\n",
       "      <td>[-0.102022685, -0.029293647, -0.5323853, 0.012...</td>\n",
       "    </tr>\n",
       "  </tbody>\n",
       "</table>\n",
       "</div>"
      ],
      "text/plain": [
       "      ID                                              facts  \\\n",
       "0  64515  【항고인, 행위자】 【원심결정】 부산지방법원 가정지원 2008. 5. 9.자 200...   \n",
       "1  64516  【준항고인】 【주    문】인천지방검찰청 소속 사법경찰관 \\n        청구외 ...   \n",
       "2  64517  【피 고 인】 【항 소 인】 피고인들【검    사】 박동진【변 호 인】 법무법인 태...   \n",
       "3  64518  【피 고 인】 【항 소 인】 피고인【검    사】 이원규【변 호 인】 변호사 하창우...   \n",
       "4  64519  【피 고 인】 【항 소 인】 피고인【검    사】 박성재【변 호 인】 법무법인 세인...   \n",
       "\n",
       "                                          embeddings  \n",
       "0  [-0.056413822, 0.013409576, -0.61507624, 0.039...  \n",
       "1  [-0.11401074, 0.0027919414, -0.5784367, -0.021...  \n",
       "2  [-0.10487191, -0.013258798, -0.6071003, -0.023...  \n",
       "3  [-0.07967803, -0.04007791, -0.59973556, -0.002...  \n",
       "4  [-0.102022685, -0.029293647, -0.5323853, 0.012...  "
      ]
     },
     "execution_count": 7,
     "metadata": {},
     "output_type": "execute_result"
    }
   ],
   "source": [
    "model_name = 'monologg/kobert'\n",
    "tokenizer = AutoTokenizer.from_pretrained(model_name, trust_remote_code=True)\n",
    "model = AutoModel.from_pretrained(model_name, trust_remote_code=True)\n",
    "model.eval()\n",
    "\n",
    "embeddings = []\n",
    "for _, row in tqdm(data.iterrows(), desc='Calculating Embeddings...', total=len(data)):\n",
    "    facts = row['facts'].replace('\\n', ' ')  \n",
    "    encoded_input = tokenizer(facts, padding=True, truncation=True, return_tensors='pt')\n",
    "    with torch.no_grad():\n",
    "        model_output = model(**encoded_input)\n",
    "        embedding = model_output.pooler_output[0].cpu().detach().numpy()\n",
    "    \n",
    "    embeddings.append(embedding)\n",
    "\n",
    "# 새로운 열로 추가\n",
    "data['embeddings'] = embeddings\n",
    "data.head()"
   ]
  },
  {
   "cell_type": "code",
   "execution_count": 8,
   "metadata": {},
   "outputs": [],
   "source": [
    "PC_API_KEY = os.environ.get('PINECONE_API_KEY')\n",
    "pc = Pinecone(api_key=PC_API_KEY)"
   ]
  },
  {
   "cell_type": "code",
   "execution_count": 19,
   "metadata": {},
   "outputs": [],
   "source": [
    "# Create a serverless index\n",
    "index_name = 'courtcase'\n",
    "\n",
    "pc.create_index(\n",
    "    name=index_name,\n",
    "    dimension=768,\n",
    "    metric=\"cosine\",\n",
    "    spec=ServerlessSpec(\n",
    "        cloud=\"aws\",\n",
    "        region=\"us-east-1\"\n",
    "    )\n",
    ")\n",
    "\n",
    "# Wait for the index to be ready\n",
    "while not pc.describe_index(index_name).status['ready']:\n",
    "    time.sleep(1)\n",
    "    "
   ]
  },
  {
   "cell_type": "code",
   "execution_count": 20,
   "metadata": {},
   "outputs": [
    {
     "data": {
      "application/vnd.jupyter.widget-view+json": {
       "model_id": "413cf49d27b243268eb21fee5ec8b8bf",
       "version_major": 2,
       "version_minor": 0
      },
      "text/plain": [
       "Creating vectors...:   0%|          | 0/6083 [00:00<?, ?it/s]"
      ]
     },
     "metadata": {},
     "output_type": "display_data"
    },
    {
     "data": {
      "application/vnd.jupyter.widget-view+json": {
       "model_id": "2b3dd4607ca2412799403b75732e5e1f",
       "version_major": 2,
       "version_minor": 0
      },
      "text/plain": [
       "Uploading vectors...:   0%|          | 0/61 [00:00<?, ?it/s]"
      ]
     },
     "metadata": {},
     "output_type": "display_data"
    }
   ],
   "source": [
    "index = pc.Index(index_name)\n",
    "\n",
    "# Vector will be stored in pinecone DB\n",
    "vectors = []\n",
    "for row in tqdm(data.itertuples(index=False), desc='Creating vectors...', total=len(data)):\n",
    "    vectors.append({\n",
    "        \"id\": str(row.ID),\n",
    "        \"values\": row.embeddings.tolist()\n",
    "    })\n",
    "    \n",
    "# Pinecone은 요청당 업로드할 수 있는 데이터 크기를 4MB로 제한하므로 batch로 잘라서 업로드\n",
    "# 또한 Pinecone은 metadata의 크기가 40KB로 제한되므로 원본 텍스트는 MySQL에 저장\n",
    "batch_size = 100\n",
    "# 벡터를 나누어 업로드\n",
    "for i in tqdm(range(math.ceil(len(vectors) / batch_size)), desc=\"Uploading vectors...\"):\n",
    "    start_idx = i * batch_size\n",
    "    end_idx = min((i + 1) * batch_size, len(vectors))\n",
    "    batch = vectors[start_idx:end_idx]\n",
    "    \n",
    "    # Pinecone에 업로드\n",
    "    index.upsert(\n",
    "        vectors=batch,\n",
    "        namespace=\"ns1\"\n",
    "    )"
   ]
  },
  {
   "cell_type": "code",
   "execution_count": 21,
   "metadata": {},
   "outputs": [
    {
     "name": "stdout",
     "output_type": "stream",
     "text": [
      "{'dimension': 768,\n",
      " 'index_fullness': 0.0,\n",
      " 'namespaces': {'ns1': {'vector_count': 6083}},\n",
      " 'total_vector_count': 6083}\n"
     ]
    }
   ],
   "source": [
    "print(index.describe_index_stats())"
   ]
  },
  {
   "cell_type": "code",
   "execution_count": 18,
   "metadata": {},
   "outputs": [],
   "source": [
    "index_name = 'courtcase'\n",
    "pc.delete_index(index_name)"
   ]
  }
 ],
 "metadata": {
  "kernelspec": {
   "display_name": "capstone",
   "language": "python",
   "name": "python3"
  },
  "language_info": {
   "codemirror_mode": {
    "name": "ipython",
    "version": 3
   },
   "file_extension": ".py",
   "mimetype": "text/x-python",
   "name": "python",
   "nbconvert_exporter": "python",
   "pygments_lexer": "ipython3",
   "version": "3.9.20"
  }
 },
 "nbformat": 4,
 "nbformat_minor": 2
}
