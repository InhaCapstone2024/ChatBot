{
 "cells": [
  {
   "cell_type": "code",
   "execution_count": 2,
   "metadata": {},
   "outputs": [],
   "source": [
    "import os\n",
    "import torch\n",
    "import pymysql\n",
    "\n",
    "from tqdm.notebook import tqdm\n",
    "from transformers import AutoTokenizer, AutoModel\n",
    "from langchain_aws import ChatBedrock\n",
    "from pinecone import Pinecone, ServerlessSpec"
   ]
  },
  {
   "cell_type": "code",
   "execution_count": 3,
   "metadata": {},
   "outputs": [],
   "source": [
    "# chatbot 호출 함수\n",
    "def bedrock_chatbot(input_text):\n",
    "    bedrock_llm = ChatBedrock(\n",
    "        # awscli로 설정 필요\n",
    "        credentials_profile_name='default',\n",
    "        model_id='anthropic.claude-3-5-sonnet-20240620-v1:0',\n",
    "        model_kwargs= {\n",
    "            \"temperature\": 0.5,\n",
    "            \"top_p\": 1,\n",
    "            \"top_k\": 250,\n",
    "        })\n",
    "    return bedrock_llm.invoke(input_text)"
   ]
  },
  {
   "cell_type": "code",
   "execution_count": 28,
   "metadata": {},
   "outputs": [
    {
     "name": "stdout",
     "output_type": "stream",
     "text": [
      "Similar IDs: ['190167', '147052', '64515', '190143', '72271', '144927', '190152', '233265', '236215', '70448']\n"
     ]
    }
   ],
   "source": [
    "# Pinecone setting\n",
    "PC_API_KEY = os.environ.get('PINECONE_API_KEY')\n",
    "pc = Pinecone(api_key=PC_API_KEY)\n",
    "index_name = 'courtcase'\n",
    "index = pc.Index(index_name)\n",
    "\n",
    "# GET query\n",
    "input = \"나는 약 19년 전 피해자와 결혼한 이래 수 년에 한 번씩 피해자를 폭행하였고, \\\n",
    "        평소에도 피해자로 하여금 모욕감이나 위협을 느끼게 하는 언행을 했어. \\\n",
    "        또한 이번 사건 발생 이후 나는 조사관의 결정전 조사에도 응하지 않고 면담 과정에서도 반감을 보이는 등 \\\n",
    "        자신의 잘못을 반성하는 모습을 보이지 않았어\"\n",
    "\n",
    "# Create Embedding for query\n",
    "model_name = 'monologg/kobert'\n",
    "tokenizer = AutoTokenizer.from_pretrained(model_name, trust_remote_code=True)\n",
    "model = AutoModel.from_pretrained(model_name, trust_remote_code=True)\n",
    "model.eval()\n",
    "\n",
    "input = input.replace('\\n', ' ')  \n",
    "encoded_input = tokenizer(input, padding=True, truncation=True, return_tensors='pt')\n",
    "with torch.no_grad():\n",
    "    model_output = model(**encoded_input)\n",
    "    embedding = model_output.pooler_output[0].cpu().detach().numpy()\n",
    "\n",
    "# Get similar cases from pinecone\n",
    "results = index.query(\n",
    "    namespace=\"ns1\",\n",
    "    vector=embedding.tolist(),\n",
    "    top_k=10,\n",
    "    include_metadata=False\n",
    ")\n",
    "\n",
    "# 검색 결과에서 ID 추출\n",
    "similar_ids = [match[\"id\"] for match in results[\"matches\"]]\n",
    "print(\"Similar IDs:\", similar_ids)"
   ]
  },
  {
   "cell_type": "code",
   "execution_count": 29,
   "metadata": {},
   "outputs": [],
   "source": [
    "# MySQL 연결\n",
    "connection = pymysql.connect(\n",
    "    host=os.environ.get('MYSQL_HOSTNAME'),\n",
    "    user=os.environ.get('MYSQL_USERNAME'),\n",
    "    password=os.environ.get('MYSQL_PASSWORD'),\n",
    "    database=os.environ.get('MYSQL_DATABASE')\n",
    ")\n",
    "\n",
    "# ID를 기반으로 원본 텍스트 조회\n",
    "with connection.cursor() as cursor:\n",
    "    # ID를 쿼리에 사용 (IN 절)\n",
    "    id_list = ', '.join(f\"'{id}'\" for id in similar_ids)\n",
    "    query = f\"SELECT CONTENT FROM CaseInfo WHERE CASE_ID IN ({id_list})\"\n",
    "    cursor.execute(query)\n",
    "\n",
    "    # 결과 가져오기\n",
    "    results = cursor.fetchall()\n",
    "\n",
    "# 결과 출력\n",
    "prompt = \"\"\n",
    "for i, row in enumerate(results):\n",
    "    prompt += f\"{i+1}번 판결문 : {row}\\n\"\n",
    "\n",
    "# 테스트용 파일 저장\n",
    "with open('./RAG_prompt.txt', 'w') as f:\n",
    "    f.write(prompt)"
   ]
  },
  {
   "cell_type": "code",
   "execution_count": 30,
   "metadata": {},
   "outputs": [
    {
     "name": "stdout",
     "output_type": "stream",
     "text": [
      "주어진 상황을 단계별로 분석해보겠습니다:\n",
      "\n",
      "1. 장기간의 폭력 행사:\n",
      "- 19년 동안 결혼 생활 중 수년에 한 번씩 피해자를 폭행함\n",
      "- 이는 지속적이고 반복적인 가정폭력 패턴을 보여줌\n",
      "\n",
      "2. 정서적 학대:\n",
      "- 평소에도 피해자에게 모욕감이나 위협을 느끼게 하는 언행을 함\n",
      "- 신체적 폭력 외에도 정서적 학대가 있었음을 시사함\n",
      "\n",
      "3. 반성 없는 태도:\n",
      "- 사건 발생 후 조사에 비협조적인 태도를 보임\n",
      "- 면담 과정에서 반감을 표시함\n",
      "- 자신의 잘못을 인정하거나 반성하는 모습을 보이지 않음\n",
      "\n",
      "4. 법적 처리 과정에서의 태도:\n",
      "- 조사 과정에 적극적으로 참여하지 않음\n",
      "- 이는 사법 절차에 대한 불응으로 해석될 수 있음\n",
      "\n",
      "결론:\n",
      "위의 상황을 종합적으로 고려할 때, 당신은 무죄 판결을 받기 어려울 것으로 보입니다. 그 이유는 다음과 같습니다:\n",
      "\n",
      "1. 장기간에 걸친 반복적인 폭력 행사는 가정폭력의 명백한 증거입니다.\n",
      "2. 정서적 학대 역시 가정폭력의 한 형태로 인정됩니다.\n",
      "3. 사건 발생 후 반성하지 않고 조사에 비협조적인 태도는 법정에서 불리하게 작용할 수 있습니다.\n",
      "4. 지속적인 폭력 행사와 반성 없는 태도는 재범 가능성이 높다고 판단될 수 있습니다.\n",
      "\n",
      "따라서 이러한 정황들로 인해 유죄 판결을 받을 가능성이 매우 높습니다. 법원은 가정폭력을 심각한 범죄로 간주하며, 특히 장기간 지속된 경우 더욱 엄중히 다룹니다.\n"
     ]
    }
   ],
   "source": [
    "# bedrock_chatbot 함수에 사용자 입력 전달\n",
    "response = bedrock_chatbot(f'{prompt} 위의 판결문들을 참고한 다음, 다음 문장에서 주어지는 상황을 단계별로 분석한 뒤, 최종적으로 내가 무죄일지 아닐지 알려줘. 상황:{input}').content\n",
    "print(response)"
   ]
  },
  {
   "cell_type": "code",
   "execution_count": null,
   "metadata": {},
   "outputs": [],
   "source": []
  }
 ],
 "metadata": {
  "kernelspec": {
   "display_name": "capstone",
   "language": "python",
   "name": "python3"
  },
  "language_info": {
   "codemirror_mode": {
    "name": "ipython",
    "version": 3
   },
   "file_extension": ".py",
   "mimetype": "text/x-python",
   "name": "python",
   "nbconvert_exporter": "python",
   "pygments_lexer": "ipython3",
   "version": "3.9.20"
  }
 },
 "nbformat": 4,
 "nbformat_minor": 2
}
