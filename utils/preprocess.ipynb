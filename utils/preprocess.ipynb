{
 "cells": [
  {
   "cell_type": "markdown",
   "metadata": {},
   "source": [
    "### 판결문 데이터 형식 수정"
   ]
  },
  {
   "cell_type": "code",
   "execution_count": 1,
   "metadata": {},
   "outputs": [
    {
     "data": {
      "text/html": [
       "<div>\n",
       "<style scoped>\n",
       "    .dataframe tbody tr th:only-of-type {\n",
       "        vertical-align: middle;\n",
       "    }\n",
       "\n",
       "    .dataframe tbody tr th {\n",
       "        vertical-align: top;\n",
       "    }\n",
       "\n",
       "    .dataframe thead th {\n",
       "        text-align: right;\n",
       "    }\n",
       "</style>\n",
       "<table border=\"1\" class=\"dataframe\">\n",
       "  <thead>\n",
       "    <tr style=\"text-align: right;\">\n",
       "      <th></th>\n",
       "      <th>CASE_ID</th>\n",
       "      <th>CASENAME</th>\n",
       "      <th>CASENUMBER</th>\n",
       "      <th>DATE</th>\n",
       "      <th>COURTNAME</th>\n",
       "      <th>CASETYPE</th>\n",
       "      <th>JUDGETYPE</th>\n",
       "      <th>CASEURL</th>\n",
       "      <th>DECISION</th>\n",
       "      <th>SUBSTANCE</th>\n",
       "      <th>REFERENCE</th>\n",
       "      <th>CONTENT</th>\n",
       "      <th>WINSTATUS</th>\n",
       "    </tr>\n",
       "  </thead>\n",
       "  <tbody>\n",
       "    <tr>\n",
       "      <th>70</th>\n",
       "      <td>70265</td>\n",
       "      <td>근로기준법위반</td>\n",
       "      <td>2005노818</td>\n",
       "      <td>2005-11-18</td>\n",
       "      <td>울산지방법원</td>\n",
       "      <td>형사</td>\n",
       "      <td>판결 : 상고</td>\n",
       "      <td>/DRF/lawService.do?OC=wkdtmf357&amp;target=prec&amp;ID...</td>\n",
       "      <td>[1]           근로기준법 제8조에 정한 ‘영리로’의 의미 및 영리성 유무...</td>\n",
       "      <td>[1]           근로기준법 제8조(중간착취의 배제)는 누구든지 법률에 의하...</td>\n",
       "      <td>[1]         근로기준법 제8조,         제110조 / [2]    ...</td>\n",
       "      <td>【피 고 인】 피고인【항 소 인】 피고인【검    사】 전미화【변 호 인】 변호사 ...</td>\n",
       "      <td>DEFENDANT</td>\n",
       "    </tr>\n",
       "  </tbody>\n",
       "</table>\n",
       "</div>"
      ],
      "text/plain": [
       "    CASE_ID CASENAME CASENUMBER        DATE COURTNAME CASETYPE JUDGETYPE  \\\n",
       "70    70265  근로기준법위반   2005노818  2005-11-18    울산지방법원       형사   판결 : 상고   \n",
       "\n",
       "                                              CASEURL  \\\n",
       "70  /DRF/lawService.do?OC=wkdtmf357&target=prec&ID...   \n",
       "\n",
       "                                             DECISION  \\\n",
       "70  [1]           근로기준법 제8조에 정한 ‘영리로’의 의미 및 영리성 유무...   \n",
       "\n",
       "                                            SUBSTANCE  \\\n",
       "70  [1]           근로기준법 제8조(중간착취의 배제)는 누구든지 법률에 의하...   \n",
       "\n",
       "                                            REFERENCE  \\\n",
       "70  [1]         근로기준법 제8조,         제110조 / [2]    ...   \n",
       "\n",
       "                                              CONTENT  WINSTATUS  \n",
       "70  【피 고 인】 피고인【항 소 인】 피고인【검    사】 전미화【변 호 인】 변호사 ...  DEFENDANT  "
      ]
     },
     "execution_count": 1,
     "metadata": {},
     "output_type": "execute_result"
    }
   ],
   "source": [
    "import json\n",
    "import pandas as pd\n",
    "\n",
    "from sklearn.model_selection import train_test_split\n",
    "\n",
    "# CSV 파일을 로드합니다\n",
    "data = pd.read_csv('../data/judgment.csv', skipinitialspace=True)\n",
    "data[data['CASE_ID']==70265]"
   ]
  },
  {
   "cell_type": "code",
   "execution_count": 2,
   "metadata": {},
   "outputs": [
    {
     "name": "stderr",
     "output_type": "stream",
     "text": [
      "/var/folders/9z/hh1by56x5kv12t6_7g4k0ngh0000gn/T/ipykernel_20549/1823100713.py:5: SettingWithCopyWarning: \n",
      "A value is trying to be set on a copy of a slice from a DataFrame.\n",
      "Try using .loc[row_indexer,col_indexer] = value instead\n",
      "\n",
      "See the caveats in the documentation: https://pandas.pydata.org/pandas-docs/stable/user_guide/indexing.html#returning-a-view-versus-a-copy\n",
      "  proc_data.loc[:, 'first_party'] = '검    사'\n",
      "/var/folders/9z/hh1by56x5kv12t6_7g4k0ngh0000gn/T/ipykernel_20549/1823100713.py:6: SettingWithCopyWarning: \n",
      "A value is trying to be set on a copy of a slice from a DataFrame.\n",
      "Try using .loc[row_indexer,col_indexer] = value instead\n",
      "\n",
      "See the caveats in the documentation: https://pandas.pydata.org/pandas-docs/stable/user_guide/indexing.html#returning-a-view-versus-a-copy\n",
      "  proc_data.loc[:, 'second_party'] = '피고인'\n"
     ]
    },
    {
     "data": {
      "text/html": [
       "<div>\n",
       "<style scoped>\n",
       "    .dataframe tbody tr th:only-of-type {\n",
       "        vertical-align: middle;\n",
       "    }\n",
       "\n",
       "    .dataframe tbody tr th {\n",
       "        vertical-align: top;\n",
       "    }\n",
       "\n",
       "    .dataframe thead th {\n",
       "        text-align: right;\n",
       "    }\n",
       "</style>\n",
       "<table border=\"1\" class=\"dataframe\">\n",
       "  <thead>\n",
       "    <tr style=\"text-align: right;\">\n",
       "      <th></th>\n",
       "      <th>ID</th>\n",
       "      <th>first_party</th>\n",
       "      <th>second_party</th>\n",
       "      <th>facts</th>\n",
       "      <th>first_party_winner</th>\n",
       "    </tr>\n",
       "  </thead>\n",
       "  <tbody>\n",
       "    <tr>\n",
       "      <th>3</th>\n",
       "      <td>64518</td>\n",
       "      <td>검    사</td>\n",
       "      <td>피고인</td>\n",
       "      <td>【피 고 인】 【항 소 인】 피고인【검    사】 이원규【변 호 인】 변호사 하창우...</td>\n",
       "      <td>0</td>\n",
       "    </tr>\n",
       "    <tr>\n",
       "      <th>4</th>\n",
       "      <td>64519</td>\n",
       "      <td>검    사</td>\n",
       "      <td>피고인</td>\n",
       "      <td>【피 고 인】 【항 소 인】 피고인【검    사】 박성재【변 호 인】 법무법인 세인...</td>\n",
       "      <td>1</td>\n",
       "    </tr>\n",
       "    <tr>\n",
       "      <th>5</th>\n",
       "      <td>64520</td>\n",
       "      <td>검    사</td>\n",
       "      <td>피고인</td>\n",
       "      <td>【피 고 인】 【항 소 인】 피고인【검    사】 김완규【원심판결】 서울남부지방법원...</td>\n",
       "      <td>1</td>\n",
       "    </tr>\n",
       "    <tr>\n",
       "      <th>6</th>\n",
       "      <td>64521</td>\n",
       "      <td>검    사</td>\n",
       "      <td>피고인</td>\n",
       "      <td>【피 고 인】 【항 소 인】 피고인【검    사】 임무영【변 호 인】 변호사 한종원...</td>\n",
       "      <td>1</td>\n",
       "    </tr>\n",
       "    <tr>\n",
       "      <th>7</th>\n",
       "      <td>64522</td>\n",
       "      <td>검    사</td>\n",
       "      <td>피고인</td>\n",
       "      <td>【피 고 인】 【항 소 인】 쌍방【검    사】 임무영【변 호 인】 변호사 백성길(...</td>\n",
       "      <td>1</td>\n",
       "    </tr>\n",
       "  </tbody>\n",
       "</table>\n",
       "</div>"
      ],
      "text/plain": [
       "      ID first_party second_party  \\\n",
       "3  64518      검    사          피고인   \n",
       "4  64519      검    사          피고인   \n",
       "5  64520      검    사          피고인   \n",
       "6  64521      검    사          피고인   \n",
       "7  64522      검    사          피고인   \n",
       "\n",
       "                                               facts  first_party_winner  \n",
       "3  【피 고 인】 【항 소 인】 피고인【검    사】 이원규【변 호 인】 변호사 하창우...                   0  \n",
       "4  【피 고 인】 【항 소 인】 피고인【검    사】 박성재【변 호 인】 법무법인 세인...                   1  \n",
       "5  【피 고 인】 【항 소 인】 피고인【검    사】 김완규【원심판결】 서울남부지방법원...                   1  \n",
       "6  【피 고 인】 【항 소 인】 피고인【검    사】 임무영【변 호 인】 변호사 한종원...                   1  \n",
       "7  【피 고 인】 【항 소 인】 쌍방【검    사】 임무영【변 호 인】 변호사 백성길(...                   1  "
      ]
     },
     "execution_count": 2,
     "metadata": {},
     "output_type": "execute_result"
    }
   ],
   "source": [
    "# Extract cols\n",
    "proc_data = data[['CASE_ID', 'CONTENT', 'WINSTATUS']]\n",
    "\n",
    "# Add parties\n",
    "proc_data.loc[:, 'first_party'] = '검    사'\n",
    "proc_data.loc[:, 'second_party'] = '피고인'\n",
    "\n",
    "# PLAINTIFF (검사 승) -> 1\n",
    "# DEFENDANT (피고 승) -> 0\n",
    "# AMBIGUOUS -> 제거\n",
    "proc_data.loc[:, 'WINSTATUS'] = proc_data['WINSTATUS'].apply(lambda x: 1 if x == 'PLAINTIFF' else (0 if x == 'DEFENDANT' else None))\n",
    "proc_data = proc_data.dropna(subset=['WINSTATUS'])\n",
    "proc_data['WINSTATUS'] = proc_data['WINSTATUS'].astype(int)\n",
    "\n",
    "# Change col name and order\n",
    "proc_data = proc_data.rename(columns={'CASE_ID': 'ID', 'CONTENT': 'facts', 'WINSTATUS': 'first_party_winner'})\n",
    "proc_data = proc_data[['ID', 'first_party', 'second_party', 'facts', 'first_party_winner']]\n",
    "\n",
    "proc_data.head()"
   ]
  },
  {
   "cell_type": "code",
   "execution_count": 3,
   "metadata": {},
   "outputs": [
    {
     "name": "stdout",
     "output_type": "stream",
     "text": [
      "<class 'pandas.core.frame.DataFrame'>\n",
      "RangeIndex: 6083 entries, 0 to 6082\n",
      "Data columns (total 13 columns):\n",
      " #   Column      Non-Null Count  Dtype \n",
      "---  ------      --------------  ----- \n",
      " 0   CASE_ID     6083 non-null   int64 \n",
      " 1   CASENAME    6083 non-null   object\n",
      " 2   CASENUMBER  6083 non-null   object\n",
      " 3   DATE        6083 non-null   object\n",
      " 4   COURTNAME   6083 non-null   object\n",
      " 5   CASETYPE    6083 non-null   object\n",
      " 6   JUDGETYPE   6083 non-null   object\n",
      " 7   CASEURL     6083 non-null   object\n",
      " 8   DECISION    2471 non-null   object\n",
      " 9   SUBSTANCE   2434 non-null   object\n",
      " 10  REFERENCE   2472 non-null   object\n",
      " 11  CONTENT     6083 non-null   object\n",
      " 12  WINSTATUS   6083 non-null   object\n",
      "dtypes: int64(1), object(12)\n",
      "memory usage: 617.9+ KB\n"
     ]
    }
   ],
   "source": [
    "data.info()"
   ]
  },
  {
   "cell_type": "code",
   "execution_count": 4,
   "metadata": {},
   "outputs": [
    {
     "name": "stdout",
     "output_type": "stream",
     "text": [
      "<class 'pandas.core.frame.DataFrame'>\n",
      "Index: 5174 entries, 3 to 6082\n",
      "Data columns (total 5 columns):\n",
      " #   Column              Non-Null Count  Dtype \n",
      "---  ------              --------------  ----- \n",
      " 0   ID                  5174 non-null   int64 \n",
      " 1   first_party         5174 non-null   object\n",
      " 2   second_party        5174 non-null   object\n",
      " 3   facts               5174 non-null   object\n",
      " 4   first_party_winner  5174 non-null   int64 \n",
      "dtypes: int64(2), object(3)\n",
      "memory usage: 242.5+ KB\n"
     ]
    }
   ],
   "source": [
    "proc_data.info()"
   ]
  },
  {
   "cell_type": "markdown",
   "metadata": {},
   "source": [
    "### proc_data의 판결문을 요약문으로 바꾸기"
   ]
  },
  {
   "cell_type": "code",
   "execution_count": 5,
   "metadata": {},
   "outputs": [],
   "source": [
    "from langchain_aws import ChatBedrock\n",
    "from pandarallel import pandarallel\n",
    "\n",
    "# chatbot 호출 함수\n",
    "def summarize_facts(input_text):\n",
    "    prompt = '\\n위 판결문의 내용에 포함된 상황에서 법원의 판결 결과 및 기소사실을 제거하고, 판결의 배경이되는 사건만 세 문장에서 네 문장으로 이루어진 문단으로 요약해. '\n",
    "    bedrock_llm = ChatBedrock(\n",
    "        # awscli로 설정 필요\n",
    "        credentials_profile_name='default',\n",
    "        model_id='anthropic.claude-3-5-sonnet-20240620-v1:0',\n",
    "        model_kwargs= {\n",
    "            \"temperature\": 0.5,\n",
    "            \"top_p\": 1,\n",
    "            \"top_k\": 250,\n",
    "        })\n",
    "    return bedrock_llm.invoke(input_text + prompt).content"
   ]
  },
  {
   "cell_type": "code",
   "execution_count": 6,
   "metadata": {},
   "outputs": [
    {
     "name": "stdout",
     "output_type": "stream",
     "text": [
      "이 사건은 회사의 대표이사가 노조 활동과 관련하여 일련의 조치를 취한 것에 대한 것입니다. 대표이사는 노조 부분회장을 회사 제품 무단반출 및 임의처분을 이유로 해고했습니다. 또한 회사 홈페이지에 파업 자제를 요청하는 글을 게시하고, 노조 간부들과 대화 과정에서 감정적인 발언을 했습니다. 이후 노조 간부 몇 명에 대해 부서 이동 및 해고 조치를 취했는데, 이는 업무 태만 등을 이유로 한 것이었습니다.\n"
     ]
    }
   ],
   "source": [
    "# 함수 동작 테스트\n",
    "summary = summarize_facts(proc_data['facts'].iloc[0])\n",
    "print(summary)"
   ]
  },
  {
   "cell_type": "code",
   "execution_count": 7,
   "metadata": {},
   "outputs": [
    {
     "name": "stdout",
     "output_type": "stream",
     "text": [
      "INFO: Pandarallel will run on 8 workers.\n",
      "INFO: Pandarallel will use standard multiprocessing data transfer (pipe) to transfer data between the main process and workers.\n"
     ]
    },
    {
     "data": {
      "application/vnd.jupyter.widget-view+json": {
       "model_id": "2fc22f0825c64472b86b61ed0a979623",
       "version_major": 2,
       "version_minor": 0
      },
      "text/plain": [
       "VBox(children=(HBox(children=(IntProgress(value=0, description='0.00%', max=647), Label(value='0 / 647'))), HB…"
      ]
     },
     "metadata": {},
     "output_type": "display_data"
    },
    {
     "ename": "KeyboardInterrupt",
     "evalue": "",
     "output_type": "error",
     "traceback": [
      "\u001b[0;31m---------------------------------------------------------------------------\u001b[0m",
      "\u001b[0;31mKeyboardInterrupt\u001b[0m                         Traceback (most recent call last)",
      "Cell \u001b[0;32mIn[7], line 3\u001b[0m\n\u001b[1;32m      1\u001b[0m pandarallel\u001b[38;5;241m.\u001b[39minitialize(progress_bar\u001b[38;5;241m=\u001b[39m\u001b[38;5;28;01mTrue\u001b[39;00m)\n\u001b[0;32m----> 3\u001b[0m proc_data[\u001b[38;5;124m'\u001b[39m\u001b[38;5;124mfacts\u001b[39m\u001b[38;5;124m'\u001b[39m] \u001b[38;5;241m=\u001b[39m \u001b[43mproc_data\u001b[49m\u001b[43m[\u001b[49m\u001b[38;5;124;43m'\u001b[39;49m\u001b[38;5;124;43mfacts\u001b[39;49m\u001b[38;5;124;43m'\u001b[39;49m\u001b[43m]\u001b[49m\u001b[38;5;241;43m.\u001b[39;49m\u001b[43mparallel_apply\u001b[49m\u001b[43m(\u001b[49m\u001b[43msummarize_facts\u001b[49m\u001b[43m)\u001b[49m\n\u001b[1;32m      4\u001b[0m proc_data\u001b[38;5;241m.\u001b[39mhead()\n",
      "File \u001b[0;32m~/anaconda3/envs/capstone/lib/python3.9/site-packages/pandarallel/core.py:428\u001b[0m, in \u001b[0;36mparallelize_with_pipe.<locals>.closure\u001b[0;34m(data, user_defined_function, *user_defined_function_args, **user_defined_function_kwargs)\u001b[0m\n\u001b[1;32m    423\u001b[0m generation \u001b[38;5;241m=\u001b[39m count()\n\u001b[1;32m    425\u001b[0m \u001b[38;5;28;01mwhile\u001b[39;00m \u001b[38;5;28many\u001b[39m(\n\u001b[1;32m    426\u001b[0m     (worker_status \u001b[38;5;241m==\u001b[39m WorkerStatus\u001b[38;5;241m.\u001b[39mRunning \u001b[38;5;28;01mfor\u001b[39;00m worker_status \u001b[38;5;129;01min\u001b[39;00m workers_status)\n\u001b[1;32m    427\u001b[0m ):\n\u001b[0;32m--> 428\u001b[0m     message: Tuple[\u001b[38;5;28mint\u001b[39m, WorkerStatus, Any] \u001b[38;5;241m=\u001b[39m \u001b[43mmaster_workers_queue\u001b[49m\u001b[38;5;241;43m.\u001b[39;49m\u001b[43mget\u001b[49m\u001b[43m(\u001b[49m\u001b[43m)\u001b[49m\n\u001b[1;32m    429\u001b[0m     worker_index, worker_status, payload \u001b[38;5;241m=\u001b[39m message\n\u001b[1;32m    430\u001b[0m     workers_status[worker_index] \u001b[38;5;241m=\u001b[39m worker_status\n",
      "File \u001b[0;32m<string>:2\u001b[0m, in \u001b[0;36mget\u001b[0;34m(self, *args, **kwds)\u001b[0m\n",
      "File \u001b[0;32m~/anaconda3/envs/capstone/lib/python3.9/multiprocessing/managers.py:810\u001b[0m, in \u001b[0;36mBaseProxy._callmethod\u001b[0;34m(self, methodname, args, kwds)\u001b[0m\n\u001b[1;32m    807\u001b[0m     conn \u001b[38;5;241m=\u001b[39m \u001b[38;5;28mself\u001b[39m\u001b[38;5;241m.\u001b[39m_tls\u001b[38;5;241m.\u001b[39mconnection\n\u001b[1;32m    809\u001b[0m conn\u001b[38;5;241m.\u001b[39msend((\u001b[38;5;28mself\u001b[39m\u001b[38;5;241m.\u001b[39m_id, methodname, args, kwds))\n\u001b[0;32m--> 810\u001b[0m kind, result \u001b[38;5;241m=\u001b[39m \u001b[43mconn\u001b[49m\u001b[38;5;241;43m.\u001b[39;49m\u001b[43mrecv\u001b[49m\u001b[43m(\u001b[49m\u001b[43m)\u001b[49m\n\u001b[1;32m    812\u001b[0m \u001b[38;5;28;01mif\u001b[39;00m kind \u001b[38;5;241m==\u001b[39m \u001b[38;5;124m'\u001b[39m\u001b[38;5;124m#RETURN\u001b[39m\u001b[38;5;124m'\u001b[39m:\n\u001b[1;32m    813\u001b[0m     \u001b[38;5;28;01mreturn\u001b[39;00m result\n",
      "File \u001b[0;32m~/anaconda3/envs/capstone/lib/python3.9/multiprocessing/connection.py:250\u001b[0m, in \u001b[0;36m_ConnectionBase.recv\u001b[0;34m(self)\u001b[0m\n\u001b[1;32m    248\u001b[0m \u001b[38;5;28mself\u001b[39m\u001b[38;5;241m.\u001b[39m_check_closed()\n\u001b[1;32m    249\u001b[0m \u001b[38;5;28mself\u001b[39m\u001b[38;5;241m.\u001b[39m_check_readable()\n\u001b[0;32m--> 250\u001b[0m buf \u001b[38;5;241m=\u001b[39m \u001b[38;5;28;43mself\u001b[39;49m\u001b[38;5;241;43m.\u001b[39;49m\u001b[43m_recv_bytes\u001b[49m\u001b[43m(\u001b[49m\u001b[43m)\u001b[49m\n\u001b[1;32m    251\u001b[0m \u001b[38;5;28;01mreturn\u001b[39;00m _ForkingPickler\u001b[38;5;241m.\u001b[39mloads(buf\u001b[38;5;241m.\u001b[39mgetbuffer())\n",
      "File \u001b[0;32m~/anaconda3/envs/capstone/lib/python3.9/multiprocessing/connection.py:414\u001b[0m, in \u001b[0;36mConnection._recv_bytes\u001b[0;34m(self, maxsize)\u001b[0m\n\u001b[1;32m    413\u001b[0m \u001b[38;5;28;01mdef\u001b[39;00m \u001b[38;5;21m_recv_bytes\u001b[39m(\u001b[38;5;28mself\u001b[39m, maxsize\u001b[38;5;241m=\u001b[39m\u001b[38;5;28;01mNone\u001b[39;00m):\n\u001b[0;32m--> 414\u001b[0m     buf \u001b[38;5;241m=\u001b[39m \u001b[38;5;28;43mself\u001b[39;49m\u001b[38;5;241;43m.\u001b[39;49m\u001b[43m_recv\u001b[49m\u001b[43m(\u001b[49m\u001b[38;5;241;43m4\u001b[39;49m\u001b[43m)\u001b[49m\n\u001b[1;32m    415\u001b[0m     size, \u001b[38;5;241m=\u001b[39m struct\u001b[38;5;241m.\u001b[39munpack(\u001b[38;5;124m\"\u001b[39m\u001b[38;5;124m!i\u001b[39m\u001b[38;5;124m\"\u001b[39m, buf\u001b[38;5;241m.\u001b[39mgetvalue())\n\u001b[1;32m    416\u001b[0m     \u001b[38;5;28;01mif\u001b[39;00m size \u001b[38;5;241m==\u001b[39m \u001b[38;5;241m-\u001b[39m\u001b[38;5;241m1\u001b[39m:\n",
      "File \u001b[0;32m~/anaconda3/envs/capstone/lib/python3.9/multiprocessing/connection.py:379\u001b[0m, in \u001b[0;36mConnection._recv\u001b[0;34m(self, size, read)\u001b[0m\n\u001b[1;32m    377\u001b[0m remaining \u001b[38;5;241m=\u001b[39m size\n\u001b[1;32m    378\u001b[0m \u001b[38;5;28;01mwhile\u001b[39;00m remaining \u001b[38;5;241m>\u001b[39m \u001b[38;5;241m0\u001b[39m:\n\u001b[0;32m--> 379\u001b[0m     chunk \u001b[38;5;241m=\u001b[39m \u001b[43mread\u001b[49m\u001b[43m(\u001b[49m\u001b[43mhandle\u001b[49m\u001b[43m,\u001b[49m\u001b[43m \u001b[49m\u001b[43mremaining\u001b[49m\u001b[43m)\u001b[49m\n\u001b[1;32m    380\u001b[0m     n \u001b[38;5;241m=\u001b[39m \u001b[38;5;28mlen\u001b[39m(chunk)\n\u001b[1;32m    381\u001b[0m     \u001b[38;5;28;01mif\u001b[39;00m n \u001b[38;5;241m==\u001b[39m \u001b[38;5;241m0\u001b[39m:\n",
      "\u001b[0;31mKeyboardInterrupt\u001b[0m: "
     ]
    }
   ],
   "source": [
    "pandarallel.initialize(progress_bar=True)\n",
    "\n",
    "proc_data['facts'] = proc_data['facts'].parallel_apply(summarize_facts)\n",
    "proc_data.head()\n",
    "    "
   ]
  },
  {
   "cell_type": "markdown",
   "metadata": {},
   "source": [
    "### Train, Test split"
   ]
  },
  {
   "cell_type": "code",
   "execution_count": 5,
   "metadata": {},
   "outputs": [
    {
     "name": "stdout",
     "output_type": "stream",
     "text": [
      "데이터가 성공적으로 80:20 비율로 나누어졌습니다.\n"
     ]
    }
   ],
   "source": [
    "# 데이터를 80:20 비율로 나눕니다\n",
    "train_data, test_data = train_test_split(proc_data, test_size=0.2, random_state=42)\n",
    "\n",
    "train_data['ID'] = train_data['ID'].apply(lambda x: 'TRAIN_' + str(x))\n",
    "test_data['ID'] = test_data['ID'].apply(lambda x: 'TEST_' + str(x))\n",
    "\n",
    "# 결과를 각각 CSV 파일로 저장합니다\n",
    "train_data.to_csv('./data/train.csv', index=False)\n",
    "test_data.to_csv('./data/test.csv', index=False)\n",
    "\n",
    "print(\"데이터가 성공적으로 80:20 비율로 나누어졌습니다.\")"
   ]
  },
  {
   "cell_type": "code",
   "execution_count": 6,
   "metadata": {},
   "outputs": [],
   "source": [
    "def convert_csv2xlsx(domain='train'):\n",
    "    data = []\n",
    "    df = pd.read_csv(f\"./data/{domain}.csv\")\n",
    "\n",
    "    for i in range(0, len(df)):\n",
    "        data_id = df['ID'][i]\n",
    "        users = [df['first_party'][i], df['second_party'][i]]\n",
    "        text = df['facts'][i]\n",
    "\n",
    "        for user_i in range(len(users)):\n",
    "            if 'Title: \\t ' in users[user_i]:\n",
    "                users[user_i] = users[user_i].split('Title: \\t ')[1]\n",
    "\n",
    "        if domain == 'train':\n",
    "            if int(df['first_party_winner'][i]) == 1: gt = 'Victory'\n",
    "            else: gt = 'Defeat'\n",
    "        else:\n",
    "            gt = ''\n",
    "        \n",
    "        data.append(\n",
    "            {\n",
    "                'test_id': data_id,\n",
    "                'The first party': users[0],\n",
    "                'The second party': users[1], \n",
    "                'facts': text,\n",
    "                'output': gt\n",
    "            }\n",
    "        )\n",
    "    \n",
    "    json.dump(data, open(f'./data/{domain}.json', 'w', encoding='utf-8'), indent='\\t')"
   ]
  },
  {
   "cell_type": "markdown",
   "metadata": {},
   "source": [
    "### Train, Validation Split"
   ]
  },
  {
   "cell_type": "code",
   "execution_count": 7,
   "metadata": {},
   "outputs": [],
   "source": [
    "convert_csv2xlsx('train')\n",
    "convert_csv2xlsx('test')\n",
    "\n",
    "with open('./data/train.json', \"r\", encoding='utf-8') as file:\n",
    "    data = json.load(file)\n",
    "\n",
    "length = len(data) // 3\n",
    "A_paths = data[:length]\n",
    "B_paths = data[length:2*length]\n",
    "C_paths = data[2*length:]\n",
    "\n",
    "train_set, test_set = A_paths+C_paths, B_paths\n",
    "\n",
    "with open(f'./data/trainval.json', 'w', encoding='utf-8') as file:\n",
    "    json.dump({'train': train_set, 'validation': test_set}, file, indent='\\t', ensure_ascii=False)"
   ]
  },
  {
   "cell_type": "code",
   "execution_count": null,
   "metadata": {},
   "outputs": [],
   "source": []
  }
 ],
 "metadata": {
  "kernelspec": {
   "display_name": "capstone",
   "language": "python",
   "name": "python3"
  },
  "language_info": {
   "codemirror_mode": {
    "name": "ipython",
    "version": 3
   },
   "file_extension": ".py",
   "mimetype": "text/x-python",
   "name": "python",
   "nbconvert_exporter": "python",
   "pygments_lexer": "ipython3",
   "version": "3.9.20"
  }
 },
 "nbformat": 4,
 "nbformat_minor": 2
}
