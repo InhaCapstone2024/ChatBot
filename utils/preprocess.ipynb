{
 "cells": [
  {
   "cell_type": "markdown",
   "metadata": {},
   "source": [
    "### 판결문 데이터 형식 수정"
   ]
  },
  {
   "cell_type": "code",
   "execution_count": 1,
   "metadata": {},
   "outputs": [
    {
     "data": {
      "text/html": [
       "<div>\n",
       "<style scoped>\n",
       "    .dataframe tbody tr th:only-of-type {\n",
       "        vertical-align: middle;\n",
       "    }\n",
       "\n",
       "    .dataframe tbody tr th {\n",
       "        vertical-align: top;\n",
       "    }\n",
       "\n",
       "    .dataframe thead th {\n",
       "        text-align: right;\n",
       "    }\n",
       "</style>\n",
       "<table border=\"1\" class=\"dataframe\">\n",
       "  <thead>\n",
       "    <tr style=\"text-align: right;\">\n",
       "      <th></th>\n",
       "      <th>CASE_ID</th>\n",
       "      <th>CASENAME</th>\n",
       "      <th>CASENUMBER</th>\n",
       "      <th>DATE</th>\n",
       "      <th>COURTNAME</th>\n",
       "      <th>CASETYPE</th>\n",
       "      <th>JUDGETYPE</th>\n",
       "      <th>CASEURL</th>\n",
       "      <th>DECISION</th>\n",
       "      <th>SUBSTANCE</th>\n",
       "      <th>REFERENCE</th>\n",
       "      <th>CONTENT</th>\n",
       "      <th>WINSTATUS</th>\n",
       "    </tr>\n",
       "  </thead>\n",
       "  <tbody>\n",
       "    <tr>\n",
       "      <th>70</th>\n",
       "      <td>70265</td>\n",
       "      <td>근로기준법위반</td>\n",
       "      <td>2005노818</td>\n",
       "      <td>2005-11-18</td>\n",
       "      <td>울산지방법원</td>\n",
       "      <td>형사</td>\n",
       "      <td>판결 : 상고</td>\n",
       "      <td>/DRF/lawService.do?OC=wkdtmf357&amp;target=prec&amp;ID...</td>\n",
       "      <td>[1]           근로기준법 제8조에 정한 ‘영리로’의 의미 및 영리성 유무...</td>\n",
       "      <td>[1]           근로기준법 제8조(중간착취의 배제)는 누구든지 법률에 의하...</td>\n",
       "      <td>[1]         근로기준법 제8조,         제110조 / [2]    ...</td>\n",
       "      <td>【피 고 인】 피고인【항 소 인】 피고인【검    사】 전미화【변 호 인】 변호사 ...</td>\n",
       "      <td>DEFENDANT</td>\n",
       "    </tr>\n",
       "  </tbody>\n",
       "</table>\n",
       "</div>"
      ],
      "text/plain": [
       "    CASE_ID CASENAME CASENUMBER        DATE COURTNAME CASETYPE JUDGETYPE  \\\n",
       "70    70265  근로기준법위반   2005노818  2005-11-18    울산지방법원       형사   판결 : 상고   \n",
       "\n",
       "                                              CASEURL  \\\n",
       "70  /DRF/lawService.do?OC=wkdtmf357&target=prec&ID...   \n",
       "\n",
       "                                             DECISION  \\\n",
       "70  [1]           근로기준법 제8조에 정한 ‘영리로’의 의미 및 영리성 유무...   \n",
       "\n",
       "                                            SUBSTANCE  \\\n",
       "70  [1]           근로기준법 제8조(중간착취의 배제)는 누구든지 법률에 의하...   \n",
       "\n",
       "                                            REFERENCE  \\\n",
       "70  [1]         근로기준법 제8조,         제110조 / [2]    ...   \n",
       "\n",
       "                                              CONTENT  WINSTATUS  \n",
       "70  【피 고 인】 피고인【항 소 인】 피고인【검    사】 전미화【변 호 인】 변호사 ...  DEFENDANT  "
      ]
     },
     "execution_count": 1,
     "metadata": {},
     "output_type": "execute_result"
    }
   ],
   "source": [
    "import json\n",
    "import pandas as pd\n",
    "\n",
    "from sklearn.model_selection import train_test_split\n",
    "\n",
    "# CSV 파일을 로드합니다\n",
    "data = pd.read_csv('./data/judgment.csv', skipinitialspace=True)\n",
    "data[data['CASE_ID']==70265]"
   ]
  },
  {
   "cell_type": "code",
   "execution_count": 2,
   "metadata": {},
   "outputs": [
    {
     "name": "stderr",
     "output_type": "stream",
     "text": [
      "/var/folders/9z/hh1by56x5kv12t6_7g4k0ngh0000gn/T/ipykernel_19062/1823100713.py:5: SettingWithCopyWarning: \n",
      "A value is trying to be set on a copy of a slice from a DataFrame.\n",
      "Try using .loc[row_indexer,col_indexer] = value instead\n",
      "\n",
      "See the caveats in the documentation: https://pandas.pydata.org/pandas-docs/stable/user_guide/indexing.html#returning-a-view-versus-a-copy\n",
      "  proc_data.loc[:, 'first_party'] = '검    사'\n",
      "/var/folders/9z/hh1by56x5kv12t6_7g4k0ngh0000gn/T/ipykernel_19062/1823100713.py:6: SettingWithCopyWarning: \n",
      "A value is trying to be set on a copy of a slice from a DataFrame.\n",
      "Try using .loc[row_indexer,col_indexer] = value instead\n",
      "\n",
      "See the caveats in the documentation: https://pandas.pydata.org/pandas-docs/stable/user_guide/indexing.html#returning-a-view-versus-a-copy\n",
      "  proc_data.loc[:, 'second_party'] = '피고인'\n"
     ]
    },
    {
     "data": {
      "text/html": [
       "<div>\n",
       "<style scoped>\n",
       "    .dataframe tbody tr th:only-of-type {\n",
       "        vertical-align: middle;\n",
       "    }\n",
       "\n",
       "    .dataframe tbody tr th {\n",
       "        vertical-align: top;\n",
       "    }\n",
       "\n",
       "    .dataframe thead th {\n",
       "        text-align: right;\n",
       "    }\n",
       "</style>\n",
       "<table border=\"1\" class=\"dataframe\">\n",
       "  <thead>\n",
       "    <tr style=\"text-align: right;\">\n",
       "      <th></th>\n",
       "      <th>ID</th>\n",
       "      <th>first_party</th>\n",
       "      <th>second_party</th>\n",
       "      <th>facts</th>\n",
       "      <th>first_party_winner</th>\n",
       "    </tr>\n",
       "  </thead>\n",
       "  <tbody>\n",
       "    <tr>\n",
       "      <th>3</th>\n",
       "      <td>64518</td>\n",
       "      <td>검    사</td>\n",
       "      <td>피고인</td>\n",
       "      <td>【피 고 인】 【항 소 인】 피고인【검    사】 이원규【변 호 인】 변호사 하창우...</td>\n",
       "      <td>0</td>\n",
       "    </tr>\n",
       "    <tr>\n",
       "      <th>4</th>\n",
       "      <td>64519</td>\n",
       "      <td>검    사</td>\n",
       "      <td>피고인</td>\n",
       "      <td>【피 고 인】 【항 소 인】 피고인【검    사】 박성재【변 호 인】 법무법인 세인...</td>\n",
       "      <td>1</td>\n",
       "    </tr>\n",
       "    <tr>\n",
       "      <th>5</th>\n",
       "      <td>64520</td>\n",
       "      <td>검    사</td>\n",
       "      <td>피고인</td>\n",
       "      <td>【피 고 인】 【항 소 인】 피고인【검    사】 김완규【원심판결】 서울남부지방법원...</td>\n",
       "      <td>1</td>\n",
       "    </tr>\n",
       "    <tr>\n",
       "      <th>6</th>\n",
       "      <td>64521</td>\n",
       "      <td>검    사</td>\n",
       "      <td>피고인</td>\n",
       "      <td>【피 고 인】 【항 소 인】 피고인【검    사】 임무영【변 호 인】 변호사 한종원...</td>\n",
       "      <td>1</td>\n",
       "    </tr>\n",
       "    <tr>\n",
       "      <th>7</th>\n",
       "      <td>64522</td>\n",
       "      <td>검    사</td>\n",
       "      <td>피고인</td>\n",
       "      <td>【피 고 인】 【항 소 인】 쌍방【검    사】 임무영【변 호 인】 변호사 백성길(...</td>\n",
       "      <td>1</td>\n",
       "    </tr>\n",
       "  </tbody>\n",
       "</table>\n",
       "</div>"
      ],
      "text/plain": [
       "      ID first_party second_party  \\\n",
       "3  64518      검    사          피고인   \n",
       "4  64519      검    사          피고인   \n",
       "5  64520      검    사          피고인   \n",
       "6  64521      검    사          피고인   \n",
       "7  64522      검    사          피고인   \n",
       "\n",
       "                                               facts  first_party_winner  \n",
       "3  【피 고 인】 【항 소 인】 피고인【검    사】 이원규【변 호 인】 변호사 하창우...                   0  \n",
       "4  【피 고 인】 【항 소 인】 피고인【검    사】 박성재【변 호 인】 법무법인 세인...                   1  \n",
       "5  【피 고 인】 【항 소 인】 피고인【검    사】 김완규【원심판결】 서울남부지방법원...                   1  \n",
       "6  【피 고 인】 【항 소 인】 피고인【검    사】 임무영【변 호 인】 변호사 한종원...                   1  \n",
       "7  【피 고 인】 【항 소 인】 쌍방【검    사】 임무영【변 호 인】 변호사 백성길(...                   1  "
      ]
     },
     "execution_count": 2,
     "metadata": {},
     "output_type": "execute_result"
    }
   ],
   "source": [
    "# Extract cols\n",
    "proc_data = data[['CASE_ID', 'CONTENT', 'WINSTATUS']]\n",
    "\n",
    "# Add parties\n",
    "proc_data.loc[:, 'first_party'] = '검    사'\n",
    "proc_data.loc[:, 'second_party'] = '피고인'\n",
    "\n",
    "# PLAINTIFF (검사 승) -> 1\n",
    "# DEFENDANT (피고 승) -> 0\n",
    "# AMBIGUOUS -> 제거\n",
    "proc_data.loc[:, 'WINSTATUS'] = proc_data['WINSTATUS'].apply(lambda x: 1 if x == 'PLAINTIFF' else (0 if x == 'DEFENDANT' else None))\n",
    "proc_data = proc_data.dropna(subset=['WINSTATUS'])\n",
    "proc_data['WINSTATUS'] = proc_data['WINSTATUS'].astype(int)\n",
    "\n",
    "# Change col name and order\n",
    "proc_data = proc_data.rename(columns={'CASE_ID': 'ID', 'CONTENT': 'facts', 'WINSTATUS': 'first_party_winner'})\n",
    "proc_data = proc_data[['ID', 'first_party', 'second_party', 'facts', 'first_party_winner']]\n",
    "\n",
    "proc_data.head()"
   ]
  },
  {
   "cell_type": "code",
   "execution_count": 3,
   "metadata": {},
   "outputs": [
    {
     "name": "stdout",
     "output_type": "stream",
     "text": [
      "<class 'pandas.core.frame.DataFrame'>\n",
      "RangeIndex: 6083 entries, 0 to 6082\n",
      "Data columns (total 13 columns):\n",
      " #   Column      Non-Null Count  Dtype \n",
      "---  ------      --------------  ----- \n",
      " 0   CASE_ID     6083 non-null   int64 \n",
      " 1   CASENAME    6083 non-null   object\n",
      " 2   CASENUMBER  6083 non-null   object\n",
      " 3   DATE        6083 non-null   object\n",
      " 4   COURTNAME   6083 non-null   object\n",
      " 5   CASETYPE    6083 non-null   object\n",
      " 6   JUDGETYPE   6083 non-null   object\n",
      " 7   CASEURL     6083 non-null   object\n",
      " 8   DECISION    2471 non-null   object\n",
      " 9   SUBSTANCE   2434 non-null   object\n",
      " 10  REFERENCE   2472 non-null   object\n",
      " 11  CONTENT     6083 non-null   object\n",
      " 12  WINSTATUS   6083 non-null   object\n",
      "dtypes: int64(1), object(12)\n",
      "memory usage: 617.9+ KB\n"
     ]
    }
   ],
   "source": [
    "data.info()"
   ]
  },
  {
   "cell_type": "code",
   "execution_count": 4,
   "metadata": {},
   "outputs": [
    {
     "name": "stdout",
     "output_type": "stream",
     "text": [
      "<class 'pandas.core.frame.DataFrame'>\n",
      "Index: 5174 entries, 3 to 6082\n",
      "Data columns (total 5 columns):\n",
      " #   Column              Non-Null Count  Dtype \n",
      "---  ------              --------------  ----- \n",
      " 0   ID                  5174 non-null   int64 \n",
      " 1   first_party         5174 non-null   object\n",
      " 2   second_party        5174 non-null   object\n",
      " 3   facts               5174 non-null   object\n",
      " 4   first_party_winner  5174 non-null   int64 \n",
      "dtypes: int64(2), object(3)\n",
      "memory usage: 242.5+ KB\n"
     ]
    }
   ],
   "source": [
    "proc_data.info()"
   ]
  },
  {
   "cell_type": "markdown",
   "metadata": {},
   "source": [
    "### Train, Test split"
   ]
  },
  {
   "cell_type": "code",
   "execution_count": 5,
   "metadata": {},
   "outputs": [
    {
     "name": "stdout",
     "output_type": "stream",
     "text": [
      "데이터가 성공적으로 80:20 비율로 나누어졌습니다.\n"
     ]
    }
   ],
   "source": [
    "# 데이터를 80:20 비율로 나눕니다\n",
    "train_data, test_data = train_test_split(proc_data, test_size=0.2, random_state=42)\n",
    "\n",
    "train_data['ID'] = train_data['ID'].apply(lambda x: 'TRAIN_' + str(x))\n",
    "test_data['ID'] = test_data['ID'].apply(lambda x: 'TEST_' + str(x))\n",
    "\n",
    "# 결과를 각각 CSV 파일로 저장합니다\n",
    "train_data.to_csv('./data/train.csv', index=False)\n",
    "test_data.to_csv('./data/test.csv', index=False)\n",
    "\n",
    "print(\"데이터가 성공적으로 80:20 비율로 나누어졌습니다.\")"
   ]
  },
  {
   "cell_type": "code",
   "execution_count": 6,
   "metadata": {},
   "outputs": [],
   "source": [
    "def convert_csv2xlsx(domain='train'):\n",
    "    data = []\n",
    "    df = pd.read_csv(f\"./data/{domain}.csv\")\n",
    "\n",
    "    for i in range(0, len(df)):\n",
    "        data_id = df['ID'][i]\n",
    "        users = [df['first_party'][i], df['second_party'][i]]\n",
    "        text = df['facts'][i]\n",
    "\n",
    "        for user_i in range(len(users)):\n",
    "            if 'Title: \\t ' in users[user_i]:\n",
    "                users[user_i] = users[user_i].split('Title: \\t ')[1]\n",
    "\n",
    "        if domain == 'train':\n",
    "            if int(df['first_party_winner'][i]) == 1: gt = 'Victory'\n",
    "            else: gt = 'Defeat'\n",
    "        else:\n",
    "            gt = ''\n",
    "        \n",
    "        data.append(\n",
    "            {\n",
    "                'test_id': data_id,\n",
    "                'The first party': users[0],\n",
    "                'The second party': users[1], \n",
    "                'facts': text,\n",
    "                'output': gt\n",
    "            }\n",
    "        )\n",
    "    \n",
    "    json.dump(data, open(f'./data/{domain}.json', 'w', encoding='utf-8'), indent='\\t')"
   ]
  },
  {
   "cell_type": "markdown",
   "metadata": {},
   "source": [
    "### Train, Validation Split"
   ]
  },
  {
   "cell_type": "code",
   "execution_count": 7,
   "metadata": {},
   "outputs": [],
   "source": [
    "convert_csv2xlsx('train')\n",
    "convert_csv2xlsx('test')\n",
    "\n",
    "with open('./data/train.json', \"r\", encoding='utf-8') as file:\n",
    "    data = json.load(file)\n",
    "\n",
    "length = len(data) // 3\n",
    "A_paths = data[:length]\n",
    "B_paths = data[length:2*length]\n",
    "C_paths = data[2*length:]\n",
    "\n",
    "train_set, test_set = A_paths+C_paths, B_paths\n",
    "\n",
    "with open(f'./data/trainval.json', 'w', encoding='utf-8') as file:\n",
    "    json.dump({'train': train_set, 'validation': test_set}, file, indent='\\t', ensure_ascii=False)"
   ]
  },
  {
   "cell_type": "code",
   "execution_count": null,
   "metadata": {},
   "outputs": [],
   "source": []
  }
 ],
 "metadata": {
  "kernelspec": {
   "display_name": "capstone",
   "language": "python",
   "name": "capstone"
  },
  "language_info": {
   "codemirror_mode": {
    "name": "ipython",
    "version": 3
   },
   "file_extension": ".py",
   "mimetype": "text/x-python",
   "name": "python",
   "nbconvert_exporter": "python",
   "pygments_lexer": "ipython3",
   "version": "3.9.20"
  }
 },
 "nbformat": 4,
 "nbformat_minor": 2
}
