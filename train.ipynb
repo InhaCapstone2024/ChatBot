{
 "cells": [
  {
   "cell_type": "code",
   "execution_count": 1,
   "id": "62305833-ed26-49a5-8b4b-c07a805df807",
   "metadata": {
    "tags": []
   },
   "outputs": [],
   "source": [
    "import os\n",
    "import tqdm\n",
    "import json\n",
    "import torch\n",
    "import pickle\n",
    "import numpy as np\n",
    "\n",
    "from torch import nn\n",
    "from torch.utils.data import DataLoader\n",
    "from torch.optim import AdamW\n",
    "\n",
    "import networks\n",
    "\n",
    "class Dataset:\n",
    "    def __init__(self, path, domain):\n",
    "        target_data = pickle.load(open(path, 'rb'))[domain]\n",
    "\n",
    "        self.pos_data = []\n",
    "        self.neg_data = []\n",
    "        \n",
    "        for data in target_data:\n",
    "            first_emb = data['first_party']\n",
    "            second_emb = data['second_party']\n",
    "            fact_emb = data['facts']\n",
    "\n",
    "            if len(first_emb.shape) > 1:\n",
    "                first_emb = first_emb[0]\n",
    "                second_emb = second_emb[0]\n",
    "                fact_emb = fact_emb[0]\n",
    "            \n",
    "            if data['output'] == 'Victory':\n",
    "                self.pos_data.append([first_emb, second_emb, fact_emb, 0])\n",
    "                self.neg_data.append([second_emb, first_emb, fact_emb, 1])\n",
    "            else:\n",
    "                self.pos_data.append([second_emb, first_emb, fact_emb, 0])\n",
    "                self.neg_data.append([first_emb, second_emb, fact_emb, 1])\n",
    "\n",
    "        self.dataset = self.pos_data + self.neg_data\n",
    "\n",
    "    def balance_sampling(self):\n",
    "        np.random.shuffle(self.pos_data)\n",
    "        np.random.shuffle(self.neg_data)\n",
    "\n",
    "        min_length = min(len(self.pos_data), len(self.neg_data))\n",
    "        self.dataset = self.pos_data[:min_length] + self.neg_data[:min_length]\n",
    "\n",
    "        return self.pos_data[min_length:], self.neg_data[min_length:]\n",
    "    \n",
    "    def add_data(self, pos_data, neg_data):\n",
    "        print('[Before] {}, {}'.format(len(self.pos_data), len(self.neg_data)))\n",
    "\n",
    "        self.pos_data += pos_data\n",
    "        self.neg_data += neg_data\n",
    "\n",
    "        print('[After] {}, {}'.format(len(self.pos_data), len(self.neg_data)))\n",
    "        print()\n",
    "\n",
    "    def __len__(self):\n",
    "        return len(self.dataset)\n",
    "    \n",
    "    def __getitem__(self, index):\n",
    "        first, second, fact, label = self.dataset[index]\n",
    "        return first.astype(np.float32), second.astype(np.float32), fact.astype(np.float32), label\n",
    "\n",
    "class Evaluator_For_Single_Label_Classification:\n",
    "    def __init__(self, class_names):\n",
    "        self.class_names = class_names\n",
    "        self.num_classes = len(self.class_names)\n",
    "        \n",
    "        self.clear()\n",
    "\n",
    "    def add(self, data):\n",
    "        pred, gt_index = data\n",
    "\n",
    "        pred_index = np.argmax(pred)\n",
    "\n",
    "        correct = int(pred_index == gt_index)\n",
    "        self.meter_dict['correct'][gt_index] += correct\n",
    "        self.meter_dict['count'][gt_index] += 1\n",
    "\n",
    "    def get(self, detail=False, clear=True):\n",
    "        accuracies = self.meter_dict['correct'] / self.meter_dict['count'] * 100\n",
    "        accuracy = np.mean(accuracies)\n",
    "\n",
    "        if clear:\n",
    "            self.clear()\n",
    "        \n",
    "        if detail:\n",
    "            return accuracy, accuracies\n",
    "        else:\n",
    "            return accuracy\n",
    "    \n",
    "    def clear(self):\n",
    "        self.meter_dict = {\n",
    "            'correct': np.zeros(self.num_classes, dtype=np.float32),\n",
    "            'count': np.zeros(self.num_classes, dtype=np.float32)\n",
    "        }\n",
    "\n",
    "class _Scheduler:\n",
    "    def __init__(self, optimizer, max_iterations):\n",
    "        self.optimizer = optimizer\n",
    "\n",
    "        self.iteration = 1\n",
    "        self.max_iterations = max_iterations\n",
    "\n",
    "    def state_dict(self) -> dict:\n",
    "        return {\n",
    "            'iteration': self.iteration\n",
    "        }\n",
    "    \n",
    "    def load_state_dict(self, state_dict: dict) -> None:\n",
    "        self.iteration = state_dict['iteration']\n",
    "\n",
    "    def get_learning_rate(self):\n",
    "        return [group['lr'] for group in self.optimizer.param_groups]\n",
    "    \n",
    "    def set_learning_rate(self, lrs):\n",
    "        if isinstance(lrs, float):\n",
    "            lrs = [lrs for _ in range(len(self.optimizer.param_groups))]\n",
    "        \n",
    "        for lr, group in zip(lrs, self.optimizer.param_groups):\n",
    "            group['lr'] = lr\n",
    "\n",
    "class PolyLR(_Scheduler):\n",
    "    def __init__(self, optimizer, max_iterations, power=0.9):\n",
    "        super().__init__(optimizer, max_iterations)\n",
    "        \n",
    "        self.power = power\n",
    "        self.init_lrs = self.get_learning_rate()\n",
    "    \n",
    "    def step(self):\n",
    "        if self.iteration < self.max_iterations:\n",
    "            lr_mult = (1 - self.iteration / self.max_iterations) ** self.power\n",
    "\n",
    "            lrs = [lr * lr_mult for lr in self.init_lrs]\n",
    "            self.set_learning_rate(lrs)\n",
    "\n",
    "            self.iteration += 1\n",
    "\n",
    "class SimilarityLoss(nn.Module):\n",
    "    def __init__(self):\n",
    "        super().__init__()\n",
    "\n",
    "    def forward(self, cos_dists, targets):\n",
    "        pos_indices = torch.sum(targets, dim=1) > 0\n",
    "        neg_indices = torch.sum(targets, dim=1) == 0\n",
    "\n",
    "        if torch.sum(pos_indices).item() > 0:\n",
    "            pos_dists = cos_dists[pos_indices]\n",
    "            pos_loss = -torch.log(pos_dists + 1e-5).mean()\n",
    "        else:\n",
    "            pos_loss = torch.zeros(1, dtype=torch.float32).cuda()\n",
    "\n",
    "        if torch.sum(neg_indices).item() > 0:\n",
    "            neg_dists = cos_dists[neg_indices]\n",
    "            neg_loss = -torch.log(1. - neg_dists + 1e-5).mean()\n",
    "        else:\n",
    "            neg_loss = torch.zeros(1, dtype=torch.float32).cuda()\n",
    "\n",
    "        return pos_loss, neg_loss"
   ]
  },
  {
   "cell_type": "code",
   "execution_count": 2,
   "id": "249d362b-7e95-4d6a-aa1c-dbc827fc3afa",
   "metadata": {
    "tags": []
   },
   "outputs": [
    {
     "name": "stderr",
     "output_type": "stream",
     "text": [
      "  1%|▊                                                                                            | 18/2000 [00:00<00:46, 42.82it/s]"
     ]
    },
    {
     "name": "stdout",
     "output_type": "stream",
     "text": [
      "Iter: 00010, Loss: 0.6914\n",
      "Iter: 00020, Loss: 0.6856\n"
     ]
    },
    {
     "name": "stderr",
     "output_type": "stream",
     "text": [
      "  2%|█▋                                                                                           | 35/2000 [00:00<00:40, 48.75it/s]"
     ]
    },
    {
     "name": "stdout",
     "output_type": "stream",
     "text": [
      "Iter: 00030, Loss: 0.6796\n",
      "Iter: 00040, Loss: 0.6727\n"
     ]
    },
    {
     "name": "stderr",
     "output_type": "stream",
     "text": [
      "  2%|██▏                                                                                          | 47/2000 [00:01<00:38, 50.93it/s]"
     ]
    },
    {
     "name": "stdout",
     "output_type": "stream",
     "text": [
      "Iter: 00050, Loss: 0.6617\n",
      "Iter: 00050, [Validation, Best] T: 0.00, Acc: 22.04, Length: 2758\n",
      "Iter: 00050, [Validation] T: 0.00, Acc: 22.04, Length: 2758\n"
     ]
    },
    {
     "name": "stderr",
     "output_type": "stream",
     "text": [
      "  3%|███                                                                                          | 65/2000 [00:01<00:47, 40.43it/s]"
     ]
    },
    {
     "name": "stdout",
     "output_type": "stream",
     "text": [
      "Iter: 00060, Loss: 0.6516\n",
      "Iter: 00070, Loss: 0.6432\n"
     ]
    },
    {
     "name": "stderr",
     "output_type": "stream",
     "text": [
      "  4%|████▏                                                                                        | 89/2000 [00:02<00:38, 49.27it/s]"
     ]
    },
    {
     "name": "stdout",
     "output_type": "stream",
     "text": [
      "Iter: 00080, Loss: 0.6349\n",
      "Iter: 00090, Loss: 0.6276\n"
     ]
    },
    {
     "name": "stderr",
     "output_type": "stream",
     "text": [
      "  5%|████▍                                                                                        | 95/2000 [00:02<00:38, 49.92it/s]"
     ]
    },
    {
     "name": "stdout",
     "output_type": "stream",
     "text": [
      "Iter: 00100, Loss: 0.6203\n"
     ]
    },
    {
     "name": "stderr",
     "output_type": "stream",
     "text": [
      "  5%|████▉                                                                                       | 107/2000 [00:02<00:51, 36.60it/s]"
     ]
    },
    {
     "name": "stdout",
     "output_type": "stream",
     "text": [
      "Iter: 00100, [Validation, Best] T: 0.00, Acc: 35.39, Length: 2758\n",
      "Iter: 00100, [Validation] T: 0.00, Acc: 35.39, Length: 2758\n"
     ]
    },
    {
     "name": "stderr",
     "output_type": "stream",
     "text": [
      "  6%|█████▍                                                                                      | 117/2000 [00:02<00:50, 37.62it/s]"
     ]
    },
    {
     "name": "stdout",
     "output_type": "stream",
     "text": [
      "Iter: 00110, Loss: 0.6120\n",
      "Iter: 00120, Loss: 0.6053\n"
     ]
    },
    {
     "name": "stderr",
     "output_type": "stream",
     "text": [
      "  7%|██████▏                                                                                     | 135/2000 [00:03<00:39, 46.71it/s]"
     ]
    },
    {
     "name": "stdout",
     "output_type": "stream",
     "text": [
      "Iter: 00130, Loss: 0.5991\n",
      "Iter: 00140, Loss: 0.5912\n"
     ]
    },
    {
     "name": "stderr",
     "output_type": "stream",
     "text": [
      "  7%|██████▊                                                                                     | 147/2000 [00:03<00:37, 49.55it/s]"
     ]
    },
    {
     "name": "stdout",
     "output_type": "stream",
     "text": [
      "Iter: 00150, Loss: 0.5859\n"
     ]
    },
    {
     "name": "stderr",
     "output_type": "stream",
     "text": [
      "  8%|███████▎                                                                                    | 159/2000 [00:03<00:50, 36.80it/s]"
     ]
    },
    {
     "name": "stdout",
     "output_type": "stream",
     "text": [
      "Iter: 00150, [Validation, Best] T: 0.00, Acc: 78.75, Length: 2758\n",
      "Iter: 00150, [Validation] T: 0.00, Acc: 78.75, Length: 2758\n",
      "Iter: 00160, Loss: 0.5787\n"
     ]
    },
    {
     "name": "stderr",
     "output_type": "stream",
     "text": [
      "  9%|████████                                                                                    | 176/2000 [00:04<00:40, 45.20it/s]"
     ]
    },
    {
     "name": "stdout",
     "output_type": "stream",
     "text": [
      "Iter: 00170, Loss: 0.5717\n",
      "Iter: 00180, Loss: 0.5655\n"
     ]
    },
    {
     "name": "stderr",
     "output_type": "stream",
     "text": [
      " 10%|████████▉                                                                                   | 194/2000 [00:04<00:36, 49.97it/s]"
     ]
    },
    {
     "name": "stdout",
     "output_type": "stream",
     "text": [
      "Iter: 00190, Loss: 0.5599\n"
     ]
    },
    {
     "name": "stderr",
     "output_type": "stream",
     "text": [
      " 10%|█████████▏                                                                                  | 200/2000 [00:04<00:35, 51.06it/s]"
     ]
    },
    {
     "name": "stdout",
     "output_type": "stream",
     "text": [
      "Iter: 00200, Loss: 0.5537\n"
     ]
    },
    {
     "name": "stderr",
     "output_type": "stream",
     "text": [
      " 10%|█████████▍                                                                                  | 206/2000 [00:05<00:52, 33.92it/s]"
     ]
    },
    {
     "name": "stdout",
     "output_type": "stream",
     "text": [
      "Iter: 00200, [Validation] T: 0.00, Acc: 45.76, Length: 2758\n",
      "Iter: 00210, Loss: 0.5468\n"
     ]
    },
    {
     "name": "stderr",
     "output_type": "stream",
     "text": [
      " 11%|██████████▎                                                                                 | 224/2000 [00:05<00:40, 44.40it/s]"
     ]
    },
    {
     "name": "stdout",
     "output_type": "stream",
     "text": [
      "Iter: 00220, Loss: 0.5409\n"
     ]
    },
    {
     "name": "stderr",
     "output_type": "stream",
     "text": [
      " 12%|██████████▊                                                                                 | 236/2000 [00:05<00:36, 48.55it/s]"
     ]
    },
    {
     "name": "stdout",
     "output_type": "stream",
     "text": [
      "Iter: 00230, Loss: 0.5352\n",
      "Iter: 00240, Loss: 0.5297\n"
     ]
    },
    {
     "name": "stderr",
     "output_type": "stream",
     "text": [
      " 12%|███████████▍                                                                                | 248/2000 [00:05<00:34, 50.93it/s]"
     ]
    },
    {
     "name": "stdout",
     "output_type": "stream",
     "text": [
      "Iter: 00250, Loss: 0.5235\n"
     ]
    },
    {
     "name": "stderr",
     "output_type": "stream",
     "text": [
      " 13%|███████████▋                                                                                | 254/2000 [00:06<00:51, 33.58it/s]"
     ]
    },
    {
     "name": "stdout",
     "output_type": "stream",
     "text": [
      "Iter: 00250, [Validation, Best] T: 0.00, Acc: 78.83, Length: 2758\n",
      "Iter: 00250, [Validation] T: 0.00, Acc: 78.83, Length: 2758\n"
     ]
    },
    {
     "name": "stderr",
     "output_type": "stream",
     "text": [
      " 13%|████████████▏                                                                               | 266/2000 [00:06<00:42, 41.25it/s]"
     ]
    },
    {
     "name": "stdout",
     "output_type": "stream",
     "text": [
      "Iter: 00260, Loss: 0.5169\n",
      "Iter: 00270, Loss: 0.5105\n"
     ]
    },
    {
     "name": "stderr",
     "output_type": "stream",
     "text": [
      " 14%|█████████████                                                                               | 284/2000 [00:06<00:36, 46.55it/s]"
     ]
    },
    {
     "name": "stdout",
     "output_type": "stream",
     "text": [
      "Iter: 00280, Loss: 0.5063\n"
     ]
    },
    {
     "name": "stderr",
     "output_type": "stream",
     "text": [
      " 15%|█████████████▌                                                                              | 296/2000 [00:06<00:34, 48.75it/s]"
     ]
    },
    {
     "name": "stdout",
     "output_type": "stream",
     "text": [
      "Iter: 00290, Loss: 0.4986\n",
      "Iter: 00300, Loss: 0.4923\n"
     ]
    },
    {
     "name": "stderr",
     "output_type": "stream",
     "text": [
      " 15%|██████████████▏                                                                             | 308/2000 [00:07<00:46, 36.04it/s]"
     ]
    },
    {
     "name": "stdout",
     "output_type": "stream",
     "text": [
      "Iter: 00300, [Validation, Best] T: 0.00, Acc: 82.52, Length: 2758\n",
      "Iter: 00300, [Validation] T: 0.00, Acc: 82.52, Length: 2758\n"
     ]
    },
    {
     "name": "stderr",
     "output_type": "stream",
     "text": [
      " 16%|██████████████▍                                                                             | 313/2000 [00:07<00:45, 36.90it/s]"
     ]
    },
    {
     "name": "stdout",
     "output_type": "stream",
     "text": [
      "Iter: 00310, Loss: 0.4868\n"
     ]
    },
    {
     "name": "stderr",
     "output_type": "stream",
     "text": [
      " 16%|██████████████▉                                                                             | 324/2000 [00:07<00:39, 42.63it/s]"
     ]
    },
    {
     "name": "stdout",
     "output_type": "stream",
     "text": [
      "Iter: 00320, Loss: 0.4809\n"
     ]
    },
    {
     "name": "stderr",
     "output_type": "stream",
     "text": [
      " 17%|███████████████▍                                                                            | 336/2000 [00:07<00:35, 47.24it/s]"
     ]
    },
    {
     "name": "stdout",
     "output_type": "stream",
     "text": [
      "Iter: 00330, Loss: 0.4773\n",
      "Iter: 00340, Loss: 0.4695\n"
     ]
    },
    {
     "name": "stderr",
     "output_type": "stream",
     "text": [
      " 17%|████████████████                                                                            | 348/2000 [00:08<00:33, 49.14it/s]"
     ]
    },
    {
     "name": "stdout",
     "output_type": "stream",
     "text": [
      "Iter: 00350, Loss: 0.4676\n"
     ]
    },
    {
     "name": "stderr",
     "output_type": "stream",
     "text": [
      " 18%|████████████████▎                                                                           | 354/2000 [00:08<00:51, 32.23it/s]"
     ]
    },
    {
     "name": "stdout",
     "output_type": "stream",
     "text": [
      "Iter: 00350, [Validation] T: 0.00, Acc: 79.41, Length: 2758\n"
     ]
    },
    {
     "name": "stderr",
     "output_type": "stream",
     "text": [
      " 18%|████████████████▊                                                                           | 365/2000 [00:08<00:41, 39.10it/s]"
     ]
    },
    {
     "name": "stdout",
     "output_type": "stream",
     "text": [
      "Iter: 00360, Loss: 0.4615\n"
     ]
    },
    {
     "name": "stderr",
     "output_type": "stream",
     "text": [
      " 19%|█████████████████▎                                                                          | 376/2000 [00:08<00:36, 44.49it/s]"
     ]
    },
    {
     "name": "stdout",
     "output_type": "stream",
     "text": [
      "Iter: 00370, Loss: 0.4561\n",
      "Iter: 00380, Loss: 0.4502\n"
     ]
    },
    {
     "name": "stderr",
     "output_type": "stream",
     "text": [
      " 20%|██████████████████                                                                          | 394/2000 [00:09<00:32, 49.38it/s]"
     ]
    },
    {
     "name": "stdout",
     "output_type": "stream",
     "text": [
      "Iter: 00390, Loss: 0.4475\n"
     ]
    },
    {
     "name": "stderr",
     "output_type": "stream",
     "text": [
      " 20%|██████████████████▍                                                                         | 400/2000 [00:09<00:36, 44.33it/s]"
     ]
    },
    {
     "name": "stdout",
     "output_type": "stream",
     "text": [
      "Iter: 00400, Loss: 0.4393\n",
      "Iter: 00400, [Validation] T: 0.00, Acc: 55.55, Length: 2758\n"
     ]
    },
    {
     "name": "stderr",
     "output_type": "stream",
     "text": [
      " 21%|███████████████████                                                                         | 415/2000 [00:10<00:42, 37.14it/s]"
     ]
    },
    {
     "name": "stdout",
     "output_type": "stream",
     "text": [
      "Iter: 00410, Loss: 0.4359\n"
     ]
    },
    {
     "name": "stderr",
     "output_type": "stream",
     "text": [
      " 21%|███████████████████▋                                                                        | 427/2000 [00:10<00:35, 43.88it/s]"
     ]
    },
    {
     "name": "stdout",
     "output_type": "stream",
     "text": [
      "Iter: 00420, Loss: 0.4296\n",
      "Iter: 00430, Loss: 0.4266\n"
     ]
    },
    {
     "name": "stderr",
     "output_type": "stream",
     "text": [
      " 22%|████████████████████▍                                                                       | 445/2000 [00:10<00:31, 49.26it/s]"
     ]
    },
    {
     "name": "stdout",
     "output_type": "stream",
     "text": [
      "Iter: 00440, Loss: 0.4221\n",
      "Iter: 00450, Loss: 0.4161\n",
      "Iter: 00450, [Validation] T: 0.00, Acc: 42.35, Length: 2758\n"
     ]
    },
    {
     "name": "stderr",
     "output_type": "stream",
     "text": [
      " 23%|█████████████████████▌                                                                      | 469/2000 [00:11<00:35, 43.39it/s]"
     ]
    },
    {
     "name": "stdout",
     "output_type": "stream",
     "text": [
      "Iter: 00460, Loss: 0.4138\n",
      "Iter: 00470, Loss: 0.4062\n"
     ]
    },
    {
     "name": "stderr",
     "output_type": "stream",
     "text": [
      " 24%|██████████████████████▎                                                                     | 486/2000 [00:11<00:31, 48.60it/s]"
     ]
    },
    {
     "name": "stdout",
     "output_type": "stream",
     "text": [
      "Iter: 00480, Loss: 0.4025\n",
      "Iter: 00490, Loss: 0.4011\n"
     ]
    },
    {
     "name": "stderr",
     "output_type": "stream",
     "text": [
      " 25%|██████████████████████▉                                                                     | 498/2000 [00:11<00:29, 50.19it/s]"
     ]
    },
    {
     "name": "stdout",
     "output_type": "stream",
     "text": [
      "Iter: 00500, Loss: 0.3952\n"
     ]
    },
    {
     "name": "stderr",
     "output_type": "stream",
     "text": [
      " 25%|███████████████████████▏                                                                    | 504/2000 [00:12<00:45, 32.55it/s]"
     ]
    },
    {
     "name": "stdout",
     "output_type": "stream",
     "text": [
      "Iter: 00500, [Validation] T: 0.00, Acc: 79.99, Length: 2758\n"
     ]
    },
    {
     "name": "stderr",
     "output_type": "stream",
     "text": [
      " 26%|███████████████████████▉                                                                    | 520/2000 [00:12<00:35, 41.44it/s]"
     ]
    },
    {
     "name": "stdout",
     "output_type": "stream",
     "text": [
      "Iter: 00510, Loss: 0.3919\n"
     ]
    },
    {
     "name": "stderr",
     "output_type": "stream",
     "text": [
      " 26%|████████████████████████▏                                                                   | 525/2000 [00:12<00:33, 43.48it/s]"
     ]
    },
    {
     "name": "stdout",
     "output_type": "stream",
     "text": [
      "Iter: 00520, Loss: 0.3853\n"
     ]
    },
    {
     "name": "stderr",
     "output_type": "stream",
     "text": [
      " 27%|████████████████████████▋                                                                   | 536/2000 [00:12<00:32, 45.66it/s]"
     ]
    },
    {
     "name": "stdout",
     "output_type": "stream",
     "text": [
      "Iter: 00530, Loss: 0.3806\n",
      "Iter: 00540, Loss: 0.3801\n"
     ]
    },
    {
     "name": "stderr",
     "output_type": "stream",
     "text": [
      " 27%|█████████████████████████▏                                                                  | 547/2000 [00:13<00:30, 47.99it/s]"
     ]
    },
    {
     "name": "stdout",
     "output_type": "stream",
     "text": [
      "Iter: 00550, Loss: 0.3770\n"
     ]
    },
    {
     "name": "stderr",
     "output_type": "stream",
     "text": [
      " 28%|█████████████████████████▋                                                                  | 558/2000 [00:13<00:40, 35.80it/s]"
     ]
    },
    {
     "name": "stdout",
     "output_type": "stream",
     "text": [
      "Iter: 00550, [Validation, Best] T: 0.00, Acc: 82.96, Length: 2758\n",
      "Iter: 00550, [Validation] T: 0.00, Acc: 82.96, Length: 2758\n",
      "Iter: 00560, Loss: 0.3739\n"
     ]
    },
    {
     "name": "stderr",
     "output_type": "stream",
     "text": [
      " 29%|██████████████████████████▍                                                                 | 576/2000 [00:13<00:31, 45.72it/s]"
     ]
    },
    {
     "name": "stdout",
     "output_type": "stream",
     "text": [
      "Iter: 00570, Loss: 0.3696\n",
      "Iter: 00580, Loss: 0.3668\n"
     ]
    },
    {
     "name": "stderr",
     "output_type": "stream",
     "text": [
      " 30%|███████████████████████████▎                                                                | 594/2000 [00:14<00:28, 50.15it/s]"
     ]
    },
    {
     "name": "stdout",
     "output_type": "stream",
     "text": [
      "Iter: 00590, Loss: 0.3618\n"
     ]
    },
    {
     "name": "stderr",
     "output_type": "stream",
     "text": [
      " 30%|███████████████████████████▌                                                                | 600/2000 [00:14<00:27, 51.07it/s]"
     ]
    },
    {
     "name": "stdout",
     "output_type": "stream",
     "text": [
      "Iter: 00600, Loss: 0.3568\n"
     ]
    },
    {
     "name": "stderr",
     "output_type": "stream",
     "text": [
      " 30%|███████████████████████████▉                                                                | 606/2000 [00:14<00:42, 33.02it/s]"
     ]
    },
    {
     "name": "stdout",
     "output_type": "stream",
     "text": [
      "Iter: 00600, [Validation, Best] T: 0.00, Acc: 84.12, Length: 2758\n",
      "Iter: 00600, [Validation] T: 0.00, Acc: 84.12, Length: 2758\n",
      "Iter: 00610, Loss: 0.3505\n"
     ]
    },
    {
     "name": "stderr",
     "output_type": "stream",
     "text": [
      " 31%|████████████████████████████▉                                                               | 628/2000 [00:15<00:31, 44.07it/s]"
     ]
    },
    {
     "name": "stdout",
     "output_type": "stream",
     "text": [
      "Iter: 00620, Loss: 0.3485\n",
      "Iter: 00630, Loss: 0.3436\n"
     ]
    },
    {
     "name": "stderr",
     "output_type": "stream",
     "text": [
      " 32%|█████████████████████████████▋                                                              | 645/2000 [00:15<00:27, 48.73it/s]"
     ]
    },
    {
     "name": "stdout",
     "output_type": "stream",
     "text": [
      "Iter: 00640, Loss: 0.3428\n",
      "Iter: 00650, Loss: 0.3381\n",
      "Iter: 00650, [Validation] T: 0.00, Acc: 66.21, Length: 2758\n"
     ]
    },
    {
     "name": "stderr",
     "output_type": "stream",
     "text": [
      " 33%|██████████████████████████████▍                                                             | 663/2000 [00:15<00:33, 40.45it/s]"
     ]
    },
    {
     "name": "stdout",
     "output_type": "stream",
     "text": [
      "Iter: 00660, Loss: 0.3356\n"
     ]
    },
    {
     "name": "stderr",
     "output_type": "stream",
     "text": [
      " 34%|███████████████████████████████                                                             | 675/2000 [00:16<00:31, 41.77it/s]"
     ]
    },
    {
     "name": "stdout",
     "output_type": "stream",
     "text": [
      "Iter: 00670, Loss: 0.3332\n"
     ]
    },
    {
     "name": "stderr",
     "output_type": "stream",
     "text": [
      " 34%|███████████████████████████████▌                                                            | 686/2000 [00:16<00:28, 46.13it/s]"
     ]
    },
    {
     "name": "stdout",
     "output_type": "stream",
     "text": [
      "Iter: 00680, Loss: 0.3276\n",
      "Iter: 00690, Loss: 0.3259\n"
     ]
    },
    {
     "name": "stderr",
     "output_type": "stream",
     "text": [
      " 35%|████████████████████████████████                                                            | 698/2000 [00:16<00:26, 48.98it/s]"
     ]
    },
    {
     "name": "stdout",
     "output_type": "stream",
     "text": [
      "Iter: 00700, Loss: 0.3217\n"
     ]
    },
    {
     "name": "stderr",
     "output_type": "stream",
     "text": [
      " 35%|████████████████████████████████▍                                                           | 704/2000 [00:16<00:39, 32.67it/s]"
     ]
    },
    {
     "name": "stdout",
     "output_type": "stream",
     "text": [
      "Iter: 00700, [Validation] T: 0.00, Acc: 78.61, Length: 2758\n"
     ]
    },
    {
     "name": "stderr",
     "output_type": "stream",
     "text": [
      " 36%|████████████████████████████████▉                                                           | 716/2000 [00:17<00:31, 40.71it/s]"
     ]
    },
    {
     "name": "stdout",
     "output_type": "stream",
     "text": [
      "Iter: 00710, Loss: 0.3199\n",
      "Iter: 00720, Loss: 0.3170\n"
     ]
    },
    {
     "name": "stderr",
     "output_type": "stream",
     "text": [
      " 37%|█████████████████████████████████▊                                                          | 734/2000 [00:17<00:26, 47.90it/s]"
     ]
    },
    {
     "name": "stdout",
     "output_type": "stream",
     "text": [
      "Iter: 00730, Loss: 0.3164\n"
     ]
    },
    {
     "name": "stderr",
     "output_type": "stream",
     "text": [
      " 37%|██████████████████████████████████▎                                                         | 746/2000 [00:17<00:25, 49.26it/s]"
     ]
    },
    {
     "name": "stdout",
     "output_type": "stream",
     "text": [
      "Iter: 00740, Loss: 0.3130\n",
      "Iter: 00750, Loss: 0.3113\n"
     ]
    },
    {
     "name": "stderr",
     "output_type": "stream",
     "text": [
      " 38%|██████████████████████████████████▊                                                         | 757/2000 [00:18<00:35, 34.93it/s]"
     ]
    },
    {
     "name": "stdout",
     "output_type": "stream",
     "text": [
      "Iter: 00750, [Validation, Best] T: 0.00, Acc: 86.22, Length: 2758\n",
      "Iter: 00750, [Validation] T: 0.00, Acc: 86.22, Length: 2758\n",
      "Iter: 00760, Loss: 0.3108\n"
     ]
    },
    {
     "name": "stderr",
     "output_type": "stream",
     "text": [
      " 39%|███████████████████████████████████▊                                                        | 779/2000 [00:18<00:26, 46.29it/s]"
     ]
    },
    {
     "name": "stdout",
     "output_type": "stream",
     "text": [
      "Iter: 00770, Loss: 0.3063\n",
      "Iter: 00780, Loss: 0.3050\n"
     ]
    },
    {
     "name": "stderr",
     "output_type": "stream",
     "text": [
      " 40%|████████████████████████████████████▋                                                       | 797/2000 [00:18<00:23, 50.48it/s]"
     ]
    },
    {
     "name": "stdout",
     "output_type": "stream",
     "text": [
      "Iter: 00790, Loss: 0.3004\n",
      "Iter: 00800, Loss: 0.2974\n"
     ]
    },
    {
     "name": "stderr",
     "output_type": "stream",
     "text": [
      " 40%|█████████████████████████████████████▏                                                      | 809/2000 [00:19<00:32, 36.78it/s]"
     ]
    },
    {
     "name": "stdout",
     "output_type": "stream",
     "text": [
      "Iter: 00800, [Validation] T: 0.00, Acc: 78.75, Length: 2758\n",
      "Iter: 00810, Loss: 0.2923\n"
     ]
    },
    {
     "name": "stderr",
     "output_type": "stream",
     "text": [
      " 41%|██████████████████████████████████████                                                      | 827/2000 [00:19<00:25, 45.22it/s]"
     ]
    },
    {
     "name": "stdout",
     "output_type": "stream",
     "text": [
      "Iter: 00820, Loss: 0.2917\n",
      "Iter: 00830, Loss: 0.2934\n"
     ]
    },
    {
     "name": "stderr",
     "output_type": "stream",
     "text": [
      " 42%|██████████████████████████████████████▊                                                     | 845/2000 [00:20<00:23, 49.07it/s]"
     ]
    },
    {
     "name": "stdout",
     "output_type": "stream",
     "text": [
      "Iter: 00840, Loss: 0.2890\n",
      "Iter: 00850, Loss: 0.2846\n"
     ]
    },
    {
     "name": "stderr",
     "output_type": "stream",
     "text": [
      " 43%|███████████████████████████████████████▍                                                    | 857/2000 [00:20<00:31, 36.70it/s]"
     ]
    },
    {
     "name": "stdout",
     "output_type": "stream",
     "text": [
      "Iter: 00850, [Validation] T: 0.00, Acc: 81.29, Length: 2758\n",
      "Iter: 00860, Loss: 0.2853\n"
     ]
    },
    {
     "name": "stderr",
     "output_type": "stream",
     "text": [
      " 44%|████████████████████████████████████████▎                                                   | 875/2000 [00:20<00:24, 45.27it/s]"
     ]
    },
    {
     "name": "stdout",
     "output_type": "stream",
     "text": [
      "Iter: 00870, Loss: 0.2830\n",
      "Iter: 00880, Loss: 0.2772\n"
     ]
    },
    {
     "name": "stderr",
     "output_type": "stream",
     "text": [
      " 45%|█████████████████████████████████████████▎                                                  | 899/2000 [00:21<00:22, 49.94it/s]"
     ]
    },
    {
     "name": "stdout",
     "output_type": "stream",
     "text": [
      "Iter: 00890, Loss: 0.2777\n",
      "Iter: 00900, Loss: 0.2735\n"
     ]
    },
    {
     "name": "stderr",
     "output_type": "stream",
     "text": [
      " 45%|█████████████████████████████████████████▋                                                  | 905/2000 [00:21<00:33, 33.12it/s]"
     ]
    },
    {
     "name": "stdout",
     "output_type": "stream",
     "text": [
      "Iter: 00900, [Validation] T: 0.00, Acc: 81.15, Length: 2758\n",
      "Iter: 00910, Loss: 0.2705\n"
     ]
    },
    {
     "name": "stderr",
     "output_type": "stream",
     "text": [
      " 46%|██████████████████████████████████████████▋                                                 | 929/2000 [00:22<00:23, 46.31it/s]"
     ]
    },
    {
     "name": "stdout",
     "output_type": "stream",
     "text": [
      "Iter: 00920, Loss: 0.2695\n",
      "Iter: 00930, Loss: 0.2670\n"
     ]
    },
    {
     "name": "stderr",
     "output_type": "stream",
     "text": [
      " 47%|███████████████████████████████████████████▎                                                | 941/2000 [00:22<00:21, 48.44it/s]"
     ]
    },
    {
     "name": "stdout",
     "output_type": "stream",
     "text": [
      "Iter: 00940, Loss: 0.2640\n"
     ]
    },
    {
     "name": "stderr",
     "output_type": "stream",
     "text": [
      " 47%|███████████████████████████████████████████▌                                                | 947/2000 [00:22<00:24, 43.57it/s]"
     ]
    },
    {
     "name": "stdout",
     "output_type": "stream",
     "text": [
      "Iter: 00950, Loss: 0.2619\n"
     ]
    },
    {
     "name": "stderr",
     "output_type": "stream",
     "text": [
      " 48%|████████████████████████████████████████████                                                | 958/2000 [00:23<00:29, 34.92it/s]"
     ]
    },
    {
     "name": "stdout",
     "output_type": "stream",
     "text": [
      "Iter: 00950, [Validation] T: 0.00, Acc: 84.19, Length: 2758\n",
      "Iter: 00960, Loss: 0.2630\n"
     ]
    },
    {
     "name": "stderr",
     "output_type": "stream",
     "text": [
      " 49%|████████████████████████████████████████████▉                                               | 978/2000 [00:23<00:23, 44.03it/s]"
     ]
    },
    {
     "name": "stdout",
     "output_type": "stream",
     "text": [
      "Iter: 00970, Loss: 0.2595\n",
      "Iter: 00980, Loss: 0.2599\n"
     ]
    },
    {
     "name": "stderr",
     "output_type": "stream",
     "text": [
      " 50%|█████████████████████████████████████████████▊                                              | 996/2000 [00:23<00:20, 49.41it/s]"
     ]
    },
    {
     "name": "stdout",
     "output_type": "stream",
     "text": [
      "Iter: 00990, Loss: 0.2579\n",
      "Iter: 01000, Loss: 0.2547\n"
     ]
    },
    {
     "name": "stderr",
     "output_type": "stream",
     "text": [
      " 50%|█████████████████████████████████████████████▊                                             | 1008/2000 [00:24<00:26, 36.82it/s]"
     ]
    },
    {
     "name": "stdout",
     "output_type": "stream",
     "text": [
      "Iter: 01000, [Validation] T: 0.00, Acc: 79.19, Length: 2758\n",
      "Iter: 01010, Loss: 0.2535\n"
     ]
    },
    {
     "name": "stderr",
     "output_type": "stream",
     "text": [
      " 51%|██████████████████████████████████████████████▋                                            | 1026/2000 [00:24<00:21, 45.40it/s]"
     ]
    },
    {
     "name": "stdout",
     "output_type": "stream",
     "text": [
      "Iter: 01020, Loss: 0.2534\n",
      "Iter: 01030, Loss: 0.2517\n"
     ]
    },
    {
     "name": "stderr",
     "output_type": "stream",
     "text": [
      " 52%|███████████████████████████████████████████████▌                                           | 1044/2000 [00:24<00:19, 49.95it/s]"
     ]
    },
    {
     "name": "stdout",
     "output_type": "stream",
     "text": [
      "Iter: 01040, Loss: 0.2474\n"
     ]
    },
    {
     "name": "stderr",
     "output_type": "stream",
     "text": [
      " 52%|███████████████████████████████████████████████▊                                           | 1050/2000 [00:25<00:18, 50.92it/s]"
     ]
    },
    {
     "name": "stdout",
     "output_type": "stream",
     "text": [
      "Iter: 01050, Loss: 0.2476\n",
      "Iter: 01050, [Validation] T: 0.00, Acc: 79.19, Length: 2758\n"
     ]
    },
    {
     "name": "stderr",
     "output_type": "stream",
     "text": [
      " 53%|████████████████████████████████████████████████▌                                          | 1068/2000 [00:25<00:22, 40.60it/s]"
     ]
    },
    {
     "name": "stdout",
     "output_type": "stream",
     "text": [
      "Iter: 01060, Loss: 0.2480\n",
      "Iter: 01070, Loss: 0.2447\n"
     ]
    },
    {
     "name": "stderr",
     "output_type": "stream",
     "text": [
      " 54%|█████████████████████████████████████████████████▎                                         | 1085/2000 [00:25<00:19, 47.15it/s]"
     ]
    },
    {
     "name": "stdout",
     "output_type": "stream",
     "text": [
      "Iter: 01080, Loss: 0.2424\n",
      "Iter: 01090, Loss: 0.2438\n"
     ]
    },
    {
     "name": "stderr",
     "output_type": "stream",
     "text": [
      " 55%|█████████████████████████████████████████████████▉                                         | 1097/2000 [00:26<00:18, 49.97it/s]"
     ]
    },
    {
     "name": "stdout",
     "output_type": "stream",
     "text": [
      "Iter: 01100, Loss: 0.2443\n"
     ]
    },
    {
     "name": "stderr",
     "output_type": "stream",
     "text": [
      " 55%|██████████████████████████████████████████████████▏                                        | 1103/2000 [00:26<00:27, 33.03it/s]"
     ]
    },
    {
     "name": "stdout",
     "output_type": "stream",
     "text": [
      "Iter: 01100, [Validation] T: 0.00, Acc: 75.56, Length: 2758\n"
     ]
    },
    {
     "name": "stderr",
     "output_type": "stream",
     "text": [
      " 56%|██████████████████████████████████████████████████▋                                        | 1115/2000 [00:26<00:21, 40.23it/s]"
     ]
    },
    {
     "name": "stdout",
     "output_type": "stream",
     "text": [
      "Iter: 01110, Loss: 0.2420\n"
     ]
    },
    {
     "name": "stderr",
     "output_type": "stream",
     "text": [
      " 56%|███████████████████████████████████████████████████▏                                       | 1126/2000 [00:26<00:19, 43.91it/s]"
     ]
    },
    {
     "name": "stdout",
     "output_type": "stream",
     "text": [
      "Iter: 01120, Loss: 0.2388\n"
     ]
    },
    {
     "name": "stderr",
     "output_type": "stream",
     "text": [
      " 57%|███████████████████████████████████████████████████▋                                       | 1137/2000 [00:27<00:18, 47.16it/s]"
     ]
    },
    {
     "name": "stdout",
     "output_type": "stream",
     "text": [
      "Iter: 01130, Loss: 0.2366\n",
      "Iter: 01140, Loss: 0.2336\n"
     ]
    },
    {
     "name": "stderr",
     "output_type": "stream",
     "text": [
      " 57%|████████████████████████████████████████████████████▏                                      | 1148/2000 [00:27<00:17, 48.75it/s]"
     ]
    },
    {
     "name": "stdout",
     "output_type": "stream",
     "text": [
      "Iter: 01150, Loss: 0.2341\n"
     ]
    },
    {
     "name": "stderr",
     "output_type": "stream",
     "text": [
      " 58%|████████████████████████████████████████████████████▍                                      | 1153/2000 [00:27<00:27, 30.51it/s]"
     ]
    },
    {
     "name": "stdout",
     "output_type": "stream",
     "text": [
      "Iter: 01150, [Validation, Best] T: 0.00, Acc: 87.67, Length: 2758\n",
      "Iter: 01150, [Validation] T: 0.00, Acc: 87.67, Length: 2758\n"
     ]
    },
    {
     "name": "stderr",
     "output_type": "stream",
     "text": [
      " 58%|█████████████████████████████████████████████████████▏                                     | 1169/2000 [00:27<00:20, 41.09it/s]"
     ]
    },
    {
     "name": "stdout",
     "output_type": "stream",
     "text": [
      "Iter: 01160, Loss: 0.2338\n",
      "Iter: 01170, Loss: 0.2302\n"
     ]
    },
    {
     "name": "stderr",
     "output_type": "stream",
     "text": [
      " 59%|█████████████████████████████████████████████████████▉                                     | 1186/2000 [00:28<00:16, 48.06it/s]"
     ]
    },
    {
     "name": "stdout",
     "output_type": "stream",
     "text": [
      "Iter: 01180, Loss: 0.2296\n",
      "Iter: 01190, Loss: 0.2296\n"
     ]
    },
    {
     "name": "stderr",
     "output_type": "stream",
     "text": [
      " 60%|██████████████████████████████████████████████████████▌                                    | 1198/2000 [00:28<00:15, 50.34it/s]"
     ]
    },
    {
     "name": "stdout",
     "output_type": "stream",
     "text": [
      "Iter: 01200, Loss: 0.2258\n"
     ]
    },
    {
     "name": "stderr",
     "output_type": "stream",
     "text": [
      " 60%|██████████████████████████████████████████████████████▊                                    | 1204/2000 [00:28<00:24, 32.49it/s]"
     ]
    },
    {
     "name": "stdout",
     "output_type": "stream",
     "text": [
      "Iter: 01200, [Validation] T: 0.00, Acc: 86.22, Length: 2758\n"
     ]
    },
    {
     "name": "stderr",
     "output_type": "stream",
     "text": [
      " 61%|███████████████████████████████████████████████████████▎                                   | 1215/2000 [00:29<00:22, 35.52it/s]"
     ]
    },
    {
     "name": "stdout",
     "output_type": "stream",
     "text": [
      "Iter: 01210, Loss: 0.2237\n"
     ]
    },
    {
     "name": "stderr",
     "output_type": "stream",
     "text": [
      " 61%|███████████████████████████████████████████████████████▊                                   | 1227/2000 [00:29<00:18, 42.85it/s]"
     ]
    },
    {
     "name": "stdout",
     "output_type": "stream",
     "text": [
      "Iter: 01220, Loss: 0.2231\n",
      "Iter: 01230, Loss: 0.2221\n"
     ]
    },
    {
     "name": "stderr",
     "output_type": "stream",
     "text": [
      " 62%|████████████████████████████████████████████████████████▊                                  | 1249/2000 [00:29<00:15, 48.44it/s]"
     ]
    },
    {
     "name": "stdout",
     "output_type": "stream",
     "text": [
      "Iter: 01240, Loss: 0.2220\n",
      "Iter: 01250, Loss: 0.2214\n"
     ]
    },
    {
     "name": "stderr",
     "output_type": "stream",
     "text": [
      " 63%|█████████████████████████████████████████████████████████                                  | 1254/2000 [00:30<00:23, 31.13it/s]"
     ]
    },
    {
     "name": "stdout",
     "output_type": "stream",
     "text": [
      "Iter: 01250, [Validation] T: 0.00, Acc: 86.95, Length: 2758\n"
     ]
    },
    {
     "name": "stderr",
     "output_type": "stream",
     "text": [
      " 63%|█████████████████████████████████████████████████████████▌                                 | 1265/2000 [00:30<00:18, 38.88it/s]"
     ]
    },
    {
     "name": "stdout",
     "output_type": "stream",
     "text": [
      "Iter: 01260, Loss: 0.2214\n"
     ]
    },
    {
     "name": "stderr",
     "output_type": "stream",
     "text": [
      " 64%|██████████████████████████████████████████████████████████                                 | 1276/2000 [00:30<00:16, 43.69it/s]"
     ]
    },
    {
     "name": "stdout",
     "output_type": "stream",
     "text": [
      "Iter: 01270, Loss: 0.2216\n",
      "Iter: 01280, Loss: 0.2194\n"
     ]
    },
    {
     "name": "stderr",
     "output_type": "stream",
     "text": [
      " 65%|███████████████████████████████████████████████████████████                                | 1299/2000 [00:31<00:14, 48.84it/s]"
     ]
    },
    {
     "name": "stdout",
     "output_type": "stream",
     "text": [
      "Iter: 01290, Loss: 0.2166\n",
      "Iter: 01300, Loss: 0.2151\n"
     ]
    },
    {
     "name": "stderr",
     "output_type": "stream",
     "text": [
      " 65%|███████████████████████████████████████████████████████████▎                               | 1304/2000 [00:31<00:21, 32.07it/s]"
     ]
    },
    {
     "name": "stdout",
     "output_type": "stream",
     "text": [
      "Iter: 01300, [Validation] T: 0.00, Acc: 81.00, Length: 2758\n"
     ]
    },
    {
     "name": "stderr",
     "output_type": "stream",
     "text": [
      " 66%|███████████████████████████████████████████████████████████▉                               | 1316/2000 [00:31<00:17, 40.23it/s]"
     ]
    },
    {
     "name": "stdout",
     "output_type": "stream",
     "text": [
      "Iter: 01310, Loss: 0.2146\n",
      "Iter: 01320, Loss: 0.2134\n"
     ]
    },
    {
     "name": "stderr",
     "output_type": "stream",
     "text": [
      " 67%|████████████████████████████████████████████████████████████▉                              | 1339/2000 [00:31<00:13, 48.01it/s]"
     ]
    },
    {
     "name": "stdout",
     "output_type": "stream",
     "text": [
      "Iter: 01330, Loss: 0.2144\n",
      "Iter: 01340, Loss: 0.2130\n"
     ]
    },
    {
     "name": "stderr",
     "output_type": "stream",
     "text": [
      " 68%|█████████████████████████████████████████████████████████████▍                             | 1350/2000 [00:32<00:13, 49.29it/s]"
     ]
    },
    {
     "name": "stdout",
     "output_type": "stream",
     "text": [
      "Iter: 01350, Loss: 0.2119\n",
      "Iter: 01350, [Validation] T: 0.00, Acc: 81.65, Length: 2758\n"
     ]
    },
    {
     "name": "stderr",
     "output_type": "stream",
     "text": [
      " 68%|██████████████████████████████████████████████████████████████▏                            | 1368/2000 [00:32<00:15, 40.13it/s]"
     ]
    },
    {
     "name": "stdout",
     "output_type": "stream",
     "text": [
      "Iter: 01360, Loss: 0.2126\n",
      "Iter: 01370, Loss: 0.2107\n"
     ]
    },
    {
     "name": "stderr",
     "output_type": "stream",
     "text": [
      " 69%|███████████████████████████████████████████████████████████████                            | 1386/2000 [00:33<00:12, 47.30it/s]"
     ]
    },
    {
     "name": "stdout",
     "output_type": "stream",
     "text": [
      "Iter: 01380, Loss: 0.2106\n",
      "Iter: 01390, Loss: 0.2083\n"
     ]
    },
    {
     "name": "stderr",
     "output_type": "stream",
     "text": [
      " 70%|███████████████████████████████████████████████████████████████▌                           | 1398/2000 [00:33<00:12, 48.78it/s]"
     ]
    },
    {
     "name": "stdout",
     "output_type": "stream",
     "text": [
      "Iter: 01400, Loss: 0.2069\n"
     ]
    },
    {
     "name": "stderr",
     "output_type": "stream",
     "text": [
      " 70%|███████████████████████████████████████████████████████████████▉                           | 1404/2000 [00:33<00:18, 31.92it/s]"
     ]
    },
    {
     "name": "stdout",
     "output_type": "stream",
     "text": [
      "Iter: 01400, [Validation, Best] T: 0.00, Acc: 89.05, Length: 2758\n",
      "Iter: 01400, [Validation] T: 0.00, Acc: 89.05, Length: 2758\n"
     ]
    },
    {
     "name": "stderr",
     "output_type": "stream",
     "text": [
      " 71%|████████████████████████████████████████████████████████████████▍                          | 1415/2000 [00:33<00:15, 38.07it/s]"
     ]
    },
    {
     "name": "stdout",
     "output_type": "stream",
     "text": [
      "Iter: 01410, Loss: 0.2068\n"
     ]
    },
    {
     "name": "stderr",
     "output_type": "stream",
     "text": [
      " 71%|████████████████████████████████████████████████████████████████▉                          | 1426/2000 [00:34<00:13, 42.92it/s]"
     ]
    },
    {
     "name": "stdout",
     "output_type": "stream",
     "text": [
      "Iter: 01420, Loss: 0.2058\n"
     ]
    },
    {
     "name": "stderr",
     "output_type": "stream",
     "text": [
      " 72%|█████████████████████████████████████████████████████████████████▍                         | 1438/2000 [00:34<00:11, 47.06it/s]"
     ]
    },
    {
     "name": "stdout",
     "output_type": "stream",
     "text": [
      "Iter: 01430, Loss: 0.2054\n",
      "Iter: 01440, Loss: 0.2039\n"
     ]
    },
    {
     "name": "stderr",
     "output_type": "stream",
     "text": [
      " 72%|█████████████████████████████████████████████████████████████████▉                         | 1449/2000 [00:34<00:11, 49.06it/s]"
     ]
    },
    {
     "name": "stdout",
     "output_type": "stream",
     "text": [
      "Iter: 01450, Loss: 0.2019\n"
     ]
    },
    {
     "name": "stderr",
     "output_type": "stream",
     "text": [
      " 73%|██████████████████████████████████████████████████████████████████▏                        | 1455/2000 [00:34<00:16, 32.24it/s]"
     ]
    },
    {
     "name": "stdout",
     "output_type": "stream",
     "text": [
      "Iter: 01450, [Validation] T: 0.00, Acc: 87.31, Length: 2758\n",
      "Iter: 01460, Loss: 0.2016\n"
     ]
    },
    {
     "name": "stderr",
     "output_type": "stream",
     "text": [
      " 74%|███████████████████████████████████████████████████████████████████▏                       | 1478/2000 [00:35<00:11, 44.88it/s]"
     ]
    },
    {
     "name": "stdout",
     "output_type": "stream",
     "text": [
      "Iter: 01470, Loss: 0.2021\n",
      "Iter: 01480, Loss: 0.2003\n"
     ]
    },
    {
     "name": "stderr",
     "output_type": "stream",
     "text": [
      " 75%|████████████████████████████████████████████████████████████████████                       | 1496/2000 [00:35<00:10, 49.54it/s]"
     ]
    },
    {
     "name": "stdout",
     "output_type": "stream",
     "text": [
      "Iter: 01490, Loss: 0.2004\n",
      "Iter: 01500, Loss: 0.2005\n"
     ]
    },
    {
     "name": "stderr",
     "output_type": "stream",
     "text": [
      " 75%|████████████████████████████████████████████████████████████████████▎                      | 1502/2000 [00:36<00:16, 29.83it/s]"
     ]
    },
    {
     "name": "stdout",
     "output_type": "stream",
     "text": [
      "Iter: 01500, [Validation] T: 0.00, Acc: 81.29, Length: 2758\n"
     ]
    },
    {
     "name": "stderr",
     "output_type": "stream",
     "text": [
      " 76%|████████████████████████████████████████████████████████████████████▉                      | 1514/2000 [00:36<00:12, 37.98it/s]"
     ]
    },
    {
     "name": "stdout",
     "output_type": "stream",
     "text": [
      "Iter: 01510, Loss: 0.2001\n"
     ]
    },
    {
     "name": "stderr",
     "output_type": "stream",
     "text": [
      " 76%|█████████████████████████████████████████████████████████████████████▍                     | 1526/2000 [00:36<00:10, 44.20it/s]"
     ]
    },
    {
     "name": "stdout",
     "output_type": "stream",
     "text": [
      "Iter: 01520, Loss: 0.1987\n",
      "Iter: 01530, Loss: 0.1967\n"
     ]
    },
    {
     "name": "stderr",
     "output_type": "stream",
     "text": [
      " 77%|██████████████████████████████████████████████████████████████████████▎                    | 1544/2000 [00:36<00:09, 48.03it/s]"
     ]
    },
    {
     "name": "stdout",
     "output_type": "stream",
     "text": [
      "Iter: 01540, Loss: 0.1978\n"
     ]
    },
    {
     "name": "stderr",
     "output_type": "stream",
     "text": [
      " 78%|██████████████████████████████████████████████████████████████████████▌                    | 1550/2000 [00:37<00:09, 49.02it/s]"
     ]
    },
    {
     "name": "stdout",
     "output_type": "stream",
     "text": [
      "Iter: 01550, Loss: 0.1969\n"
     ]
    },
    {
     "name": "stderr",
     "output_type": "stream",
     "text": [
      " 78%|██████████████████████████████████████████████████████████████████████▊                    | 1556/2000 [00:37<00:14, 31.56it/s]"
     ]
    },
    {
     "name": "stdout",
     "output_type": "stream",
     "text": [
      "Iter: 01550, [Validation] T: 0.00, Acc: 77.08, Length: 2758\n"
     ]
    },
    {
     "name": "stderr",
     "output_type": "stream",
     "text": [
      " 78%|███████████████████████████████████████████████████████████████████████▎                   | 1566/2000 [00:37<00:11, 37.07it/s]"
     ]
    },
    {
     "name": "stdout",
     "output_type": "stream",
     "text": [
      "Iter: 01560, Loss: 0.1971\n",
      "Iter: 01570, Loss: 0.1954\n"
     ]
    },
    {
     "name": "stderr",
     "output_type": "stream",
     "text": [
      " 79%|████████████████████████████████████████████████████████████████████████▎                  | 1588/2000 [00:38<00:08, 46.62it/s]"
     ]
    },
    {
     "name": "stdout",
     "output_type": "stream",
     "text": [
      "Iter: 01580, Loss: 0.1963\n",
      "Iter: 01590, Loss: 0.1946\n"
     ]
    },
    {
     "name": "stderr",
     "output_type": "stream",
     "text": [
      " 80%|████████████████████████████████████████████████████████████████████████▊                  | 1600/2000 [00:38<00:08, 48.66it/s]"
     ]
    },
    {
     "name": "stdout",
     "output_type": "stream",
     "text": [
      "Iter: 01600, Loss: 0.1940\n"
     ]
    },
    {
     "name": "stderr",
     "output_type": "stream",
     "text": [
      " 80%|█████████████████████████████████████████████████████████████████████████                  | 1605/2000 [00:38<00:12, 31.25it/s]"
     ]
    },
    {
     "name": "stdout",
     "output_type": "stream",
     "text": [
      "Iter: 01600, [Validation] T: 0.00, Acc: 87.09, Length: 2758\n",
      "Iter: 01610, Loss: 0.1936\n"
     ]
    },
    {
     "name": "stderr",
     "output_type": "stream",
     "text": [
      " 81%|██████████████████████████████████████████████████████████████████████████                 | 1629/2000 [00:39<00:08, 45.28it/s]"
     ]
    },
    {
     "name": "stdout",
     "output_type": "stream",
     "text": [
      "Iter: 01620, Loss: 0.1916\n",
      "Iter: 01630, Loss: 0.1919\n"
     ]
    },
    {
     "name": "stderr",
     "output_type": "stream",
     "text": [
      " 82%|██████████████████████████████████████████████████████████████████████████▉                | 1646/2000 [00:39<00:07, 48.53it/s]"
     ]
    },
    {
     "name": "stdout",
     "output_type": "stream",
     "text": [
      "Iter: 01640, Loss: 0.1930\n",
      "Iter: 01650, Loss: 0.1921\n"
     ]
    },
    {
     "name": "stderr",
     "output_type": "stream",
     "text": [
      " 83%|███████████████████████████████████████████████████████████████████████████▍               | 1657/2000 [00:39<00:09, 35.96it/s]"
     ]
    },
    {
     "name": "stdout",
     "output_type": "stream",
     "text": [
      "Iter: 01650, [Validation] T: 0.00, Acc: 84.48, Length: 2758\n",
      "Iter: 01660, Loss: 0.1907\n"
     ]
    },
    {
     "name": "stderr",
     "output_type": "stream",
     "text": [
      " 84%|████████████████████████████████████████████████████████████████████████████▏              | 1675/2000 [00:40<00:07, 44.89it/s]"
     ]
    },
    {
     "name": "stdout",
     "output_type": "stream",
     "text": [
      "Iter: 01670, Loss: 0.1885\n",
      "Iter: 01680, Loss: 0.1903\n"
     ]
    },
    {
     "name": "stderr",
     "output_type": "stream",
     "text": [
      " 85%|█████████████████████████████████████████████████████████████████████████████▎             | 1699/2000 [00:40<00:06, 49.75it/s]"
     ]
    },
    {
     "name": "stdout",
     "output_type": "stream",
     "text": [
      "Iter: 01690, Loss: 0.1902\n",
      "Iter: 01700, Loss: 0.1895\n"
     ]
    },
    {
     "name": "stderr",
     "output_type": "stream",
     "text": [
      " 85%|█████████████████████████████████████████████████████████████████████████████▌             | 1705/2000 [00:40<00:08, 32.97it/s]"
     ]
    },
    {
     "name": "stdout",
     "output_type": "stream",
     "text": [
      "Iter: 01700, [Validation] T: 0.00, Acc: 79.84, Length: 2758\n",
      "Iter: 01710, Loss: 0.1894\n"
     ]
    },
    {
     "name": "stderr",
     "output_type": "stream",
     "text": [
      " 86%|██████████████████████████████████████████████████████████████████████████████▌            | 1727/2000 [00:41<00:06, 44.40it/s]"
     ]
    },
    {
     "name": "stdout",
     "output_type": "stream",
     "text": [
      "Iter: 01720, Loss: 0.1876\n",
      "Iter: 01730, Loss: 0.1878\n"
     ]
    },
    {
     "name": "stderr",
     "output_type": "stream",
     "text": [
      " 87%|███████████████████████████████████████████████████████████████████████████████▌           | 1749/2000 [00:41<00:05, 48.85it/s]"
     ]
    },
    {
     "name": "stdout",
     "output_type": "stream",
     "text": [
      "Iter: 01740, Loss: 0.1866\n",
      "Iter: 01750, Loss: 0.1865\n"
     ]
    },
    {
     "name": "stderr",
     "output_type": "stream",
     "text": [
      " 88%|███████████████████████████████████████████████████████████████████████████████▊           | 1754/2000 [00:42<00:08, 30.71it/s]"
     ]
    },
    {
     "name": "stdout",
     "output_type": "stream",
     "text": [
      "Iter: 01750, [Validation, Best] T: 0.00, Acc: 89.92, Length: 2758\n",
      "Iter: 01750, [Validation] T: 0.00, Acc: 89.92, Length: 2758\n"
     ]
    },
    {
     "name": "stderr",
     "output_type": "stream",
     "text": [
      " 88%|████████████████████████████████████████████████████████████████████████████████▎          | 1765/2000 [00:42<00:06, 38.41it/s]"
     ]
    },
    {
     "name": "stdout",
     "output_type": "stream",
     "text": [
      "Iter: 01760, Loss: 0.1863\n"
     ]
    },
    {
     "name": "stderr",
     "output_type": "stream",
     "text": [
      " 89%|████████████████████████████████████████████████████████████████████████████████▊          | 1775/2000 [00:42<00:06, 37.38it/s]"
     ]
    },
    {
     "name": "stdout",
     "output_type": "stream",
     "text": [
      "Iter: 01770, Loss: 0.1853\n"
     ]
    },
    {
     "name": "stderr",
     "output_type": "stream",
     "text": [
      " 89%|█████████████████████████████████████████████████████████████████████████████████▎         | 1786/2000 [00:42<00:04, 43.35it/s]"
     ]
    },
    {
     "name": "stdout",
     "output_type": "stream",
     "text": [
      "Iter: 01780, Loss: 0.1854\n",
      "Iter: 01790, Loss: 0.1857\n"
     ]
    },
    {
     "name": "stderr",
     "output_type": "stream",
     "text": [
      " 90%|█████████████████████████████████████████████████████████████████████████████████▊         | 1798/2000 [00:43<00:04, 47.78it/s]"
     ]
    },
    {
     "name": "stdout",
     "output_type": "stream",
     "text": [
      "Iter: 01800, Loss: 0.1861\n"
     ]
    },
    {
     "name": "stderr",
     "output_type": "stream",
     "text": [
      " 90%|██████████████████████████████████████████████████████████████████████████████████▎        | 1809/2000 [00:43<00:05, 35.24it/s]"
     ]
    },
    {
     "name": "stdout",
     "output_type": "stream",
     "text": [
      "Iter: 01800, [Validation] T: 0.00, Acc: 87.31, Length: 2758\n",
      "Iter: 01810, Loss: 0.1853\n"
     ]
    },
    {
     "name": "stderr",
     "output_type": "stream",
     "text": [
      " 91%|███████████████████████████████████████████████████████████████████████████████████        | 1826/2000 [00:43<00:03, 44.50it/s]"
     ]
    },
    {
     "name": "stdout",
     "output_type": "stream",
     "text": [
      "Iter: 01820, Loss: 0.1843\n",
      "Iter: 01830, Loss: 0.1845\n"
     ]
    },
    {
     "name": "stderr",
     "output_type": "stream",
     "text": [
      " 92%|███████████████████████████████████████████████████████████████████████████████████▉       | 1844/2000 [00:44<00:03, 48.83it/s]"
     ]
    },
    {
     "name": "stdout",
     "output_type": "stream",
     "text": [
      "Iter: 01840, Loss: 0.1838\n"
     ]
    },
    {
     "name": "stderr",
     "output_type": "stream",
     "text": [
      " 92%|████████████████████████████████████████████████████████████████████████████████████▏      | 1850/2000 [00:44<00:02, 50.36it/s]"
     ]
    },
    {
     "name": "stdout",
     "output_type": "stream",
     "text": [
      "Iter: 01850, Loss: 0.1839\n"
     ]
    },
    {
     "name": "stderr",
     "output_type": "stream",
     "text": [
      " 93%|████████████████████████████████████████████████████████████████████████████████████▍      | 1856/2000 [00:44<00:04, 32.04it/s]"
     ]
    },
    {
     "name": "stdout",
     "output_type": "stream",
     "text": [
      "Iter: 01850, [Validation, Best] T: 0.00, Acc: 90.72, Length: 2758\n",
      "Iter: 01850, [Validation] T: 0.00, Acc: 90.72, Length: 2758\n",
      "Iter: 01860, Loss: 0.1827\n"
     ]
    },
    {
     "name": "stderr",
     "output_type": "stream",
     "text": [
      " 94%|█████████████████████████████████████████████████████████████████████████████████████▍     | 1877/2000 [00:45<00:02, 43.23it/s]"
     ]
    },
    {
     "name": "stdout",
     "output_type": "stream",
     "text": [
      "Iter: 01870, Loss: 0.1834\n",
      "Iter: 01880, Loss: 0.1827\n"
     ]
    },
    {
     "name": "stderr",
     "output_type": "stream",
     "text": [
      " 95%|██████████████████████████████████████████████████████████████████████████████████████▏    | 1894/2000 [00:45<00:02, 47.79it/s]"
     ]
    },
    {
     "name": "stdout",
     "output_type": "stream",
     "text": [
      "Iter: 01890, Loss: 0.1826\n"
     ]
    },
    {
     "name": "stderr",
     "output_type": "stream",
     "text": [
      " 95%|██████████████████████████████████████████████████████████████████████████████████████▍    | 1900/2000 [00:45<00:02, 49.16it/s]"
     ]
    },
    {
     "name": "stdout",
     "output_type": "stream",
     "text": [
      "Iter: 01900, Loss: 0.1819\n",
      "Iter: 01900, [Validation, Best] T: 0.00, Acc: 91.59, Length: 2758\n",
      "Iter: 01900, [Validation] T: 0.00, Acc: 91.59, Length: 2758\n"
     ]
    },
    {
     "name": "stderr",
     "output_type": "stream",
     "text": [
      " 96%|███████████████████████████████████████████████████████████████████████████████████████▎   | 1918/2000 [00:46<00:02, 39.79it/s]"
     ]
    },
    {
     "name": "stdout",
     "output_type": "stream",
     "text": [
      "Iter: 01910, Loss: 0.1834\n",
      "Iter: 01920, Loss: 0.1811\n"
     ]
    },
    {
     "name": "stderr",
     "output_type": "stream",
     "text": [
      " 97%|████████████████████████████████████████████████████████████████████████████████████████   | 1935/2000 [00:46<00:01, 47.09it/s]"
     ]
    },
    {
     "name": "stdout",
     "output_type": "stream",
     "text": [
      "Iter: 01930, Loss: 0.1821\n"
     ]
    },
    {
     "name": "stderr",
     "output_type": "stream",
     "text": [
      " 97%|████████████████████████████████████████████████████████████████████████████████████████▌  | 1947/2000 [00:46<00:01, 49.51it/s]"
     ]
    },
    {
     "name": "stdout",
     "output_type": "stream",
     "text": [
      "Iter: 01940, Loss: 0.1810\n",
      "Iter: 01950, Loss: 0.1834\n"
     ]
    },
    {
     "name": "stderr",
     "output_type": "stream",
     "text": [
      " 98%|█████████████████████████████████████████████████████████████████████████████████████████▏ | 1959/2000 [00:47<00:01, 37.51it/s]"
     ]
    },
    {
     "name": "stdout",
     "output_type": "stream",
     "text": [
      "Iter: 01950, [Validation] T: 0.00, Acc: 90.57, Length: 2758\n",
      "Iter: 01960, Loss: 0.1814\n"
     ]
    },
    {
     "name": "stderr",
     "output_type": "stream",
     "text": [
      " 99%|█████████████████████████████████████████████████████████████████████████████████████████▉ | 1977/2000 [00:47<00:00, 46.29it/s]"
     ]
    },
    {
     "name": "stdout",
     "output_type": "stream",
     "text": [
      "Iter: 01970, Loss: 0.1808\n",
      "Iter: 01980, Loss: 0.1821\n"
     ]
    },
    {
     "name": "stderr",
     "output_type": "stream",
     "text": [
      "100%|██████████████████████████████████████████████████████████████████████████████████████████▊| 1995/2000 [00:47<00:00, 50.18it/s]"
     ]
    },
    {
     "name": "stdout",
     "output_type": "stream",
     "text": [
      "Iter: 01990, Loss: 0.1813\n",
      "Iter: 02000, Loss: 0.1812\n"
     ]
    },
    {
     "name": "stderr",
     "output_type": "stream",
     "text": [
      "100%|███████████████████████████████████████████████████████████████████████████████████████████| 2000/2000 [00:48<00:00, 41.60it/s]"
     ]
    },
    {
     "name": "stdout",
     "output_type": "stream",
     "text": [
      "Iter: 02000, [Validation] T: 0.00, Acc: 90.86, Length: 2758\n"
     ]
    },
    {
     "name": "stderr",
     "output_type": "stream",
     "text": [
      "\n"
     ]
    }
   ],
   "source": [
    "if __name__ == '__main__':\n",
    "\n",
    "    model_name = 'KoBERT'\n",
    "\n",
    "    np.random.seed(0)\n",
    "\n",
    "    train_dataset = Dataset(f'./embeddings/trainval_{model_name}.pkl', 'train')\n",
    "    valid_dataset = Dataset(f'./embeddings/trainval_{model_name}.pkl', 'validation')\n",
    "\n",
    "    train_loader = DataLoader(train_dataset, batch_size=1024, shuffle=True, num_workers=0, drop_last=True) # num_workers=16\n",
    "    valid_loader = DataLoader(valid_dataset, batch_size=64, shuffle=False, num_workers=0, drop_last=False)\n",
    "    \n",
    "    model = networks.CosClassifier(768) \n",
    "    model.cuda()\n",
    "    model.train()\n",
    "\n",
    "    iteration = 0\n",
    "    log_iterations = 10\n",
    "    val_iterations = 50\n",
    "    max_iterations = 2000\n",
    "\n",
    "    max_epochs = max_iterations // len(train_loader)\n",
    "\n",
    "    optimizer = AdamW(model.parameters(), lr=1e-3, weight_decay=1e-2)\n",
    "    scheduler = PolyLR(optimizer, max_iterations)\n",
    "    \n",
    "    loss_fn = nn.CrossEntropyLoss().cuda()\n",
    "\n",
    "    train_losses = []\n",
    "    pbar = tqdm.tqdm(total=max_iterations)\n",
    "\n",
    "    best_val_th, best_val_acc, best_val_name = 0, 0, None\n",
    "    evaluator = Evaluator_For_Single_Label_Classification(['first', 'second'])\n",
    "\n",
    "    pth_dir = f'./weights/'\n",
    "    if not os.path.isdir(pth_dir): os.makedirs(pth_dir)\n",
    "\n",
    "    for epoch in range(1, max_epochs+1):\n",
    "        train_dataset.balance_sampling()\n",
    "        \n",
    "        for first_embs, second_embs, fact_embs, labels in train_loader:\n",
    "            first_embs = first_embs.cuda()\n",
    "            second_embs = second_embs.cuda()\n",
    "            fact_embs = fact_embs.cuda()\n",
    "            labels = labels.cuda()\n",
    "            \n",
    "            logits = model(first_embs, second_embs, fact_embs)\n",
    "\n",
    "            loss = loss_fn(logits, labels)\n",
    "\n",
    "            train_losses.append(loss.item())\n",
    "\n",
    "            optimizer.zero_grad()\n",
    "            loss.backward()\n",
    "            optimizer.step()\n",
    "            scheduler.step()\n",
    "\n",
    "            pbar.update(1)\n",
    "            iteration += 1\n",
    "\n",
    "            if iteration % log_iterations == 0:\n",
    "                train_loss = np.mean(train_losses)\n",
    "                print(f'Iter: {iteration:05d}, Loss: {train_loss:.04f}')\n",
    "                train_losses = []\n",
    "\n",
    "            if iteration % val_iterations == 0:\n",
    "                model.eval()\n",
    "\n",
    "                with torch.no_grad():\n",
    "                    for first_embs, second_embs, fact_embs, labels in valid_loader:\n",
    "                        first_embs = first_embs.cuda()\n",
    "                        second_embs = second_embs.cuda()\n",
    "                        fact_embs = fact_embs.cuda()\n",
    "                        labels = labels.cuda()\n",
    "\n",
    "                        probs = model(first_embs, second_embs, fact_embs)\n",
    "                        probs = probs.cpu().detach().numpy()\n",
    "                        \n",
    "                        for prob, label in zip(probs, labels):\n",
    "                            evaluator.add([prob, label.item()])\n",
    "\n",
    "                    val_acc = evaluator.get(clear=True)\n",
    "                    \n",
    "                if best_val_acc < val_acc:\n",
    "                    best_val_th = 0.\n",
    "                    best_val_acc = val_acc\n",
    "\n",
    "                    if best_val_name is not None:\n",
    "                        os.remove(pth_dir + best_val_name)\n",
    "\n",
    "                    best_val_name = f'{model_name}_val_I={iteration:05d}_T={best_val_th:.02f}_Acc={best_val_acc:.02f}.pth'\n",
    "                    torch.save(model.state_dict(), pth_dir + best_val_name)\n",
    "\n",
    "                    print(f'Iter: {iteration:05d}, [Validation, Best] T: {best_val_th:.02f}, Acc: {best_val_acc:.02f}, Length: {len(valid_dataset)}')\n",
    "                \n",
    "                print(f'Iter: {iteration:05d}, [Validation] T: {0.:.02f}, Acc: {val_acc:.02f}, Length: {len(valid_dataset)}')\n",
    "                \n",
    "                model.train()\n",
    "    \n",
    "    pbar.close()"
   ]
  },
  {
   "cell_type": "markdown",
   "id": "5e1e5554-594f-4ee7-b508-6389f6742555",
   "metadata": {},
   "source": [
    "# Learning"
   ]
  },
  {
   "cell_type": "code",
   "execution_count": null,
   "id": "637e8386-e6ef-4335-9423-f5d40b0f9710",
   "metadata": {},
   "outputs": [],
   "source": []
  }
 ],
 "metadata": {
  "kernelspec": {
   "display_name": "capstone",
   "language": "python",
   "name": "capstone"
  },
  "language_info": {
   "codemirror_mode": {
    "name": "ipython",
    "version": 3
   },
   "file_extension": ".py",
   "mimetype": "text/x-python",
   "name": "python",
   "nbconvert_exporter": "python",
   "pygments_lexer": "ipython3",
   "version": "3.9.20"
  }
 },
 "nbformat": 4,
 "nbformat_minor": 5
}
